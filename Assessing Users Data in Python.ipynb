{
 "cells": [
  {
   "cell_type": "markdown",
   "id": "a688de49",
   "metadata": {},
   "source": [
    "# Assessing Users Data in Python"
   ]
  },
  {
   "cell_type": "code",
   "execution_count": 436,
   "id": "2afbad97",
   "metadata": {},
   "outputs": [],
   "source": [
    "# import packages\n",
    "import pandas as pd\n",
    "import numpy as np\n",
    "from matplotlib import pyplot as plt\n",
    "import seaborn as sns"
   ]
  },
  {
   "cell_type": "code",
   "execution_count": 437,
   "id": "cf4b2330",
   "metadata": {},
   "outputs": [],
   "source": [
    "# read the ecommerce file into a dataframe with only the file name if it is in the same folder as the notebook\n",
    "df_users = pd.read_csv('ecommerce_users.csv')"
   ]
  },
  {
   "cell_type": "markdown",
   "id": "834dd93d",
   "metadata": {},
   "source": [
    "# read the file with the full file path\n",
    "df_users = pd.read_csv(r'C:\\Users\\iolowoye\\Documents\\Uranus Academy\\ecommerce_users.csv')"
   ]
  },
  {
   "cell_type": "markdown",
   "id": "80a6d28e",
   "metadata": {},
   "source": [
    "## Functions to assess dataframes(tables) in pandas\n",
    "### Looking at what the dataframe contains\n",
    "1. head function\n",
    "2. tail function\n",
    "3. sample function"
   ]
  },
  {
   "cell_type": "code",
   "execution_count": 438,
   "id": "20340195",
   "metadata": {},
   "outputs": [
    {
     "data": {
      "text/html": [
       "<div>\n",
       "<style scoped>\n",
       "    .dataframe tbody tr th:only-of-type {\n",
       "        vertical-align: middle;\n",
       "    }\n",
       "\n",
       "    .dataframe tbody tr th {\n",
       "        vertical-align: top;\n",
       "    }\n",
       "\n",
       "    .dataframe thead th {\n",
       "        text-align: right;\n",
       "    }\n",
       "</style>\n",
       "<table border=\"1\" class=\"dataframe\">\n",
       "  <thead>\n",
       "    <tr style=\"text-align: right;\">\n",
       "      <th></th>\n",
       "      <th>id</th>\n",
       "      <th>first_name</th>\n",
       "      <th>last_name</th>\n",
       "      <th>phone_number</th>\n",
       "      <th>email</th>\n",
       "      <th>age</th>\n",
       "      <th>gender</th>\n",
       "      <th>state</th>\n",
       "      <th>street_address</th>\n",
       "      <th>postal_code</th>\n",
       "      <th>city</th>\n",
       "      <th>country</th>\n",
       "      <th>latitude</th>\n",
       "      <th>longitude</th>\n",
       "      <th>traffic_source</th>\n",
       "      <th>created_at</th>\n",
       "    </tr>\n",
       "  </thead>\n",
       "  <tbody>\n",
       "    <tr>\n",
       "      <th>0</th>\n",
       "      <td>21304</td>\n",
       "      <td>Heidi</td>\n",
       "      <td>Hall</td>\n",
       "      <td>NaN</td>\n",
       "      <td>heidihall@example.net</td>\n",
       "      <td>70.0</td>\n",
       "      <td>F</td>\n",
       "      <td>Gyeonggi-do</td>\n",
       "      <td>9401 Howard Road Apt. 695</td>\n",
       "      <td>415-850</td>\n",
       "      <td>Gimpo City</td>\n",
       "      <td>South Korea</td>\n",
       "      <td>37.640589</td>\n",
       "      <td>126.566183</td>\n",
       "      <td>Search</td>\n",
       "      <td>2019-01-02 00:19:00 UTC</td>\n",
       "    </tr>\n",
       "    <tr>\n",
       "      <th>1</th>\n",
       "      <td>5012</td>\n",
       "      <td>Billy</td>\n",
       "      <td>Guerrero</td>\n",
       "      <td>1.800341e+09</td>\n",
       "      <td>billyguerrero@example.net</td>\n",
       "      <td>33.0</td>\n",
       "      <td>M</td>\n",
       "      <td>Texas</td>\n",
       "      <td>533 Patricia Roads Apt. 472</td>\n",
       "      <td>79928</td>\n",
       "      <td>Horizon City</td>\n",
       "      <td>United States</td>\n",
       "      <td>31.642378</td>\n",
       "      <td>-106.141715</td>\n",
       "      <td>Search</td>\n",
       "      <td>2019-01-02 00:29:00 UTC</td>\n",
       "    </tr>\n",
       "    <tr>\n",
       "      <th>2</th>\n",
       "      <td>27817</td>\n",
       "      <td>Antonio</td>\n",
       "      <td>Williams</td>\n",
       "      <td>NaN</td>\n",
       "      <td>antoniowilliams@example.net</td>\n",
       "      <td>20.0</td>\n",
       "      <td>M</td>\n",
       "      <td>Zhejiang</td>\n",
       "      <td>0381 Baker Stream Apt. 075</td>\n",
       "      <td>312599</td>\n",
       "      <td>Wuhan</td>\n",
       "      <td>China</td>\n",
       "      <td>29.504850</td>\n",
       "      <td>120.901029</td>\n",
       "      <td>Search</td>\n",
       "      <td>2019-01-02 00:35:00 UTC</td>\n",
       "    </tr>\n",
       "    <tr>\n",
       "      <th>3</th>\n",
       "      <td>14079</td>\n",
       "      <td>Ryan</td>\n",
       "      <td>Brown</td>\n",
       "      <td>NaN</td>\n",
       "      <td>ryanbrown@example.com</td>\n",
       "      <td>68.0</td>\n",
       "      <td>M</td>\n",
       "      <td>Bahia</td>\n",
       "      <td>277 Walker Mountains</td>\n",
       "      <td>45920-000</td>\n",
       "      <td>Nova Viçosa</td>\n",
       "      <td>Brasil</td>\n",
       "      <td>-17.900464</td>\n",
       "      <td>-39.716076</td>\n",
       "      <td>Search</td>\n",
       "      <td>2019-01-02 00:43:00 UTC</td>\n",
       "    </tr>\n",
       "    <tr>\n",
       "      <th>4</th>\n",
       "      <td>93946</td>\n",
       "      <td>Sabrina</td>\n",
       "      <td>Rodriguez</td>\n",
       "      <td>1.800594e+09</td>\n",
       "      <td>sabrinarodriguez@example.net</td>\n",
       "      <td>39.0</td>\n",
       "      <td>F</td>\n",
       "      <td>Florida</td>\n",
       "      <td>06720 Smith Summit Suite 860</td>\n",
       "      <td>34711</td>\n",
       "      <td>Clermont</td>\n",
       "      <td>United States</td>\n",
       "      <td>28.525665</td>\n",
       "      <td>-81.756419</td>\n",
       "      <td>Search</td>\n",
       "      <td>2019-01-02 01:14:00 UTC</td>\n",
       "    </tr>\n",
       "  </tbody>\n",
       "</table>\n",
       "</div>"
      ],
      "text/plain": [
       "      id first_name  last_name  phone_number                         email  \\\n",
       "0  21304      Heidi       Hall           NaN         heidihall@example.net   \n",
       "1   5012      Billy   Guerrero  1.800341e+09     billyguerrero@example.net   \n",
       "2  27817    Antonio   Williams           NaN   antoniowilliams@example.net   \n",
       "3  14079       Ryan      Brown           NaN         ryanbrown@example.com   \n",
       "4  93946    Sabrina  Rodriguez  1.800594e+09  sabrinarodriguez@example.net   \n",
       "\n",
       "    age gender        state                street_address postal_code  \\\n",
       "0  70.0      F  Gyeonggi-do     9401 Howard Road Apt. 695     415-850   \n",
       "1  33.0      M        Texas   533 Patricia Roads Apt. 472       79928   \n",
       "2  20.0      M     Zhejiang    0381 Baker Stream Apt. 075      312599   \n",
       "3  68.0      M        Bahia          277 Walker Mountains   45920-000   \n",
       "4  39.0      F      Florida  06720 Smith Summit Suite 860       34711   \n",
       "\n",
       "           city        country   latitude   longitude traffic_source  \\\n",
       "0    Gimpo City    South Korea  37.640589  126.566183         Search   \n",
       "1  Horizon City  United States  31.642378 -106.141715         Search   \n",
       "2         Wuhan          China  29.504850  120.901029         Search   \n",
       "3   Nova Viçosa         Brasil -17.900464  -39.716076         Search   \n",
       "4      Clermont  United States  28.525665  -81.756419         Search   \n",
       "\n",
       "                created_at  \n",
       "0  2019-01-02 00:19:00 UTC  \n",
       "1  2019-01-02 00:29:00 UTC  \n",
       "2  2019-01-02 00:35:00 UTC  \n",
       "3  2019-01-02 00:43:00 UTC  \n",
       "4  2019-01-02 01:14:00 UTC  "
      ]
     },
     "execution_count": 438,
     "metadata": {},
     "output_type": "execute_result"
    }
   ],
   "source": [
    "# the head function\n",
    "df_users.head() # by default, it shows the first five rows"
   ]
  },
  {
   "cell_type": "code",
   "execution_count": 439,
   "id": "ed6ed72f",
   "metadata": {},
   "outputs": [
    {
     "data": {
      "text/html": [
       "<div>\n",
       "<style scoped>\n",
       "    .dataframe tbody tr th:only-of-type {\n",
       "        vertical-align: middle;\n",
       "    }\n",
       "\n",
       "    .dataframe tbody tr th {\n",
       "        vertical-align: top;\n",
       "    }\n",
       "\n",
       "    .dataframe thead th {\n",
       "        text-align: right;\n",
       "    }\n",
       "</style>\n",
       "<table border=\"1\" class=\"dataframe\">\n",
       "  <thead>\n",
       "    <tr style=\"text-align: right;\">\n",
       "      <th></th>\n",
       "      <th>id</th>\n",
       "      <th>first_name</th>\n",
       "      <th>last_name</th>\n",
       "      <th>phone_number</th>\n",
       "      <th>email</th>\n",
       "      <th>age</th>\n",
       "      <th>gender</th>\n",
       "      <th>state</th>\n",
       "      <th>street_address</th>\n",
       "      <th>postal_code</th>\n",
       "      <th>city</th>\n",
       "      <th>country</th>\n",
       "      <th>latitude</th>\n",
       "      <th>longitude</th>\n",
       "      <th>traffic_source</th>\n",
       "      <th>created_at</th>\n",
       "    </tr>\n",
       "  </thead>\n",
       "  <tbody>\n",
       "    <tr>\n",
       "      <th>0</th>\n",
       "      <td>21304</td>\n",
       "      <td>Heidi</td>\n",
       "      <td>Hall</td>\n",
       "      <td>NaN</td>\n",
       "      <td>heidihall@example.net</td>\n",
       "      <td>70.0</td>\n",
       "      <td>F</td>\n",
       "      <td>Gyeonggi-do</td>\n",
       "      <td>9401 Howard Road Apt. 695</td>\n",
       "      <td>415-850</td>\n",
       "      <td>Gimpo City</td>\n",
       "      <td>South Korea</td>\n",
       "      <td>37.640589</td>\n",
       "      <td>126.566183</td>\n",
       "      <td>Search</td>\n",
       "      <td>2019-01-02 00:19:00 UTC</td>\n",
       "    </tr>\n",
       "    <tr>\n",
       "      <th>1</th>\n",
       "      <td>5012</td>\n",
       "      <td>Billy</td>\n",
       "      <td>Guerrero</td>\n",
       "      <td>1.800341e+09</td>\n",
       "      <td>billyguerrero@example.net</td>\n",
       "      <td>33.0</td>\n",
       "      <td>M</td>\n",
       "      <td>Texas</td>\n",
       "      <td>533 Patricia Roads Apt. 472</td>\n",
       "      <td>79928</td>\n",
       "      <td>Horizon City</td>\n",
       "      <td>United States</td>\n",
       "      <td>31.642378</td>\n",
       "      <td>-106.141715</td>\n",
       "      <td>Search</td>\n",
       "      <td>2019-01-02 00:29:00 UTC</td>\n",
       "    </tr>\n",
       "    <tr>\n",
       "      <th>2</th>\n",
       "      <td>27817</td>\n",
       "      <td>Antonio</td>\n",
       "      <td>Williams</td>\n",
       "      <td>NaN</td>\n",
       "      <td>antoniowilliams@example.net</td>\n",
       "      <td>20.0</td>\n",
       "      <td>M</td>\n",
       "      <td>Zhejiang</td>\n",
       "      <td>0381 Baker Stream Apt. 075</td>\n",
       "      <td>312599</td>\n",
       "      <td>Wuhan</td>\n",
       "      <td>China</td>\n",
       "      <td>29.504850</td>\n",
       "      <td>120.901029</td>\n",
       "      <td>Search</td>\n",
       "      <td>2019-01-02 00:35:00 UTC</td>\n",
       "    </tr>\n",
       "  </tbody>\n",
       "</table>\n",
       "</div>"
      ],
      "text/plain": [
       "      id first_name last_name  phone_number                        email  \\\n",
       "0  21304      Heidi      Hall           NaN        heidihall@example.net   \n",
       "1   5012      Billy  Guerrero  1.800341e+09    billyguerrero@example.net   \n",
       "2  27817    Antonio  Williams           NaN  antoniowilliams@example.net   \n",
       "\n",
       "    age gender        state               street_address postal_code  \\\n",
       "0  70.0      F  Gyeonggi-do    9401 Howard Road Apt. 695     415-850   \n",
       "1  33.0      M        Texas  533 Patricia Roads Apt. 472       79928   \n",
       "2  20.0      M     Zhejiang   0381 Baker Stream Apt. 075      312599   \n",
       "\n",
       "           city        country   latitude   longitude traffic_source  \\\n",
       "0    Gimpo City    South Korea  37.640589  126.566183         Search   \n",
       "1  Horizon City  United States  31.642378 -106.141715         Search   \n",
       "2         Wuhan          China  29.504850  120.901029         Search   \n",
       "\n",
       "                created_at  \n",
       "0  2019-01-02 00:19:00 UTC  \n",
       "1  2019-01-02 00:29:00 UTC  \n",
       "2  2019-01-02 00:35:00 UTC  "
      ]
     },
     "execution_count": 439,
     "metadata": {},
     "output_type": "execute_result"
    }
   ],
   "source": [
    "# to see other than five rows, you put the number in the bracket\n",
    "df_users.head(3)"
   ]
  },
  {
   "cell_type": "code",
   "execution_count": 440,
   "id": "65c1e781",
   "metadata": {},
   "outputs": [
    {
     "data": {
      "text/html": [
       "<div>\n",
       "<style scoped>\n",
       "    .dataframe tbody tr th:only-of-type {\n",
       "        vertical-align: middle;\n",
       "    }\n",
       "\n",
       "    .dataframe tbody tr th {\n",
       "        vertical-align: top;\n",
       "    }\n",
       "\n",
       "    .dataframe thead th {\n",
       "        text-align: right;\n",
       "    }\n",
       "</style>\n",
       "<table border=\"1\" class=\"dataframe\">\n",
       "  <thead>\n",
       "    <tr style=\"text-align: right;\">\n",
       "      <th></th>\n",
       "      <th>id</th>\n",
       "      <th>first_name</th>\n",
       "      <th>last_name</th>\n",
       "      <th>phone_number</th>\n",
       "      <th>email</th>\n",
       "      <th>age</th>\n",
       "      <th>gender</th>\n",
       "      <th>state</th>\n",
       "      <th>street_address</th>\n",
       "      <th>postal_code</th>\n",
       "      <th>city</th>\n",
       "      <th>country</th>\n",
       "      <th>latitude</th>\n",
       "      <th>longitude</th>\n",
       "      <th>traffic_source</th>\n",
       "      <th>created_at</th>\n",
       "    </tr>\n",
       "  </thead>\n",
       "  <tbody>\n",
       "    <tr>\n",
       "      <th>99994</th>\n",
       "      <td>79066</td>\n",
       "      <td>Travis</td>\n",
       "      <td>Allen</td>\n",
       "      <td>1.800556e+09</td>\n",
       "      <td>travisallen@example.org</td>\n",
       "      <td>17.0</td>\n",
       "      <td>M</td>\n",
       "      <td>California</td>\n",
       "      <td>665 Richard Inlet</td>\n",
       "      <td>91767</td>\n",
       "      <td>Pomona</td>\n",
       "      <td>United States</td>\n",
       "      <td>34.081517</td>\n",
       "      <td>-117.738461</td>\n",
       "      <td>Search</td>\n",
       "      <td>2023-04-26 19:23:03.636324 UTC</td>\n",
       "    </tr>\n",
       "    <tr>\n",
       "      <th>99995</th>\n",
       "      <td>98969</td>\n",
       "      <td>Linda</td>\n",
       "      <td>Mcgrath</td>\n",
       "      <td>1.800139e+09</td>\n",
       "      <td>lindamcgrath@example.org</td>\n",
       "      <td>54.0</td>\n",
       "      <td>F</td>\n",
       "      <td>Florida</td>\n",
       "      <td>2787 Barrett Valleys Apt. 986</td>\n",
       "      <td>33312</td>\n",
       "      <td>Fort Lauderdale</td>\n",
       "      <td>United States</td>\n",
       "      <td>26.088242</td>\n",
       "      <td>-80.181492</td>\n",
       "      <td>Display</td>\n",
       "      <td>2023-04-26 19:25:09.399335 UTC</td>\n",
       "    </tr>\n",
       "    <tr>\n",
       "      <th>99996</th>\n",
       "      <td>56920</td>\n",
       "      <td>Jasmine</td>\n",
       "      <td>Valdez</td>\n",
       "      <td>NaN</td>\n",
       "      <td>jasminevaldez@example.net</td>\n",
       "      <td>68.0</td>\n",
       "      <td>F</td>\n",
       "      <td>Île-de-France</td>\n",
       "      <td>4700 Mccann Green</td>\n",
       "      <td>75016</td>\n",
       "      <td>Paris</td>\n",
       "      <td>France</td>\n",
       "      <td>48.857391</td>\n",
       "      <td>2.256367</td>\n",
       "      <td>Search</td>\n",
       "      <td>2023-04-26 19:29:08.280281 UTC</td>\n",
       "    </tr>\n",
       "    <tr>\n",
       "      <th>99997</th>\n",
       "      <td>77719</td>\n",
       "      <td>Haley</td>\n",
       "      <td>Campbell</td>\n",
       "      <td>NaN</td>\n",
       "      <td>haleycampbell@example.com</td>\n",
       "      <td>50.0</td>\n",
       "      <td>F</td>\n",
       "      <td>Bourgogne-Franche-Comté</td>\n",
       "      <td>855 Suarez Walks</td>\n",
       "      <td>21000</td>\n",
       "      <td>Dijon</td>\n",
       "      <td>France</td>\n",
       "      <td>47.322872</td>\n",
       "      <td>5.037560</td>\n",
       "      <td>Search</td>\n",
       "      <td>2023-04-26 19:29:23.730034 UTC</td>\n",
       "    </tr>\n",
       "    <tr>\n",
       "      <th>99998</th>\n",
       "      <td>70163</td>\n",
       "      <td>Brianna</td>\n",
       "      <td>Dalton</td>\n",
       "      <td>1.800954e+09</td>\n",
       "      <td>briannadalton@example.com</td>\n",
       "      <td>28.0</td>\n",
       "      <td>F</td>\n",
       "      <td>Texas</td>\n",
       "      <td>015 Mcgee Fords Apt. 880</td>\n",
       "      <td>78589</td>\n",
       "      <td>San Juan</td>\n",
       "      <td>United States</td>\n",
       "      <td>26.186049</td>\n",
       "      <td>-98.151782</td>\n",
       "      <td>Search</td>\n",
       "      <td>2023-04-26 19:33:36.935949 UTC</td>\n",
       "    </tr>\n",
       "    <tr>\n",
       "      <th>99999</th>\n",
       "      <td>95519</td>\n",
       "      <td>Darin</td>\n",
       "      <td>Ortiz</td>\n",
       "      <td>NaN</td>\n",
       "      <td>darinortiz@example.com</td>\n",
       "      <td>66.0</td>\n",
       "      <td>M</td>\n",
       "      <td>Rio de Janeiro</td>\n",
       "      <td>430 Megan Mission</td>\n",
       "      <td>22750-008</td>\n",
       "      <td>Rio de Janeiro</td>\n",
       "      <td>Brasil</td>\n",
       "      <td>-22.937678</td>\n",
       "      <td>-43.336215</td>\n",
       "      <td>Search</td>\n",
       "      <td>2023-04-26 19:35:28.485865 UTC</td>\n",
       "    </tr>\n",
       "  </tbody>\n",
       "</table>\n",
       "</div>"
      ],
      "text/plain": [
       "          id first_name last_name  phone_number                      email  \\\n",
       "99994  79066     Travis     Allen  1.800556e+09    travisallen@example.org   \n",
       "99995  98969      Linda   Mcgrath  1.800139e+09   lindamcgrath@example.org   \n",
       "99996  56920    Jasmine    Valdez           NaN  jasminevaldez@example.net   \n",
       "99997  77719      Haley  Campbell           NaN  haleycampbell@example.com   \n",
       "99998  70163    Brianna    Dalton  1.800954e+09  briannadalton@example.com   \n",
       "99999  95519      Darin     Ortiz           NaN     darinortiz@example.com   \n",
       "\n",
       "        age gender                    state                 street_address  \\\n",
       "99994  17.0      M               California              665 Richard Inlet   \n",
       "99995  54.0      F                  Florida  2787 Barrett Valleys Apt. 986   \n",
       "99996  68.0      F            Île-de-France              4700 Mccann Green   \n",
       "99997  50.0      F  Bourgogne-Franche-Comté               855 Suarez Walks   \n",
       "99998  28.0      F                    Texas       015 Mcgee Fords Apt. 880   \n",
       "99999  66.0      M           Rio de Janeiro              430 Megan Mission   \n",
       "\n",
       "      postal_code             city        country   latitude   longitude  \\\n",
       "99994       91767           Pomona  United States  34.081517 -117.738461   \n",
       "99995       33312  Fort Lauderdale  United States  26.088242  -80.181492   \n",
       "99996       75016            Paris         France  48.857391    2.256367   \n",
       "99997       21000            Dijon         France  47.322872    5.037560   \n",
       "99998       78589         San Juan  United States  26.186049  -98.151782   \n",
       "99999   22750-008   Rio de Janeiro         Brasil -22.937678  -43.336215   \n",
       "\n",
       "      traffic_source                      created_at  \n",
       "99994         Search  2023-04-26 19:23:03.636324 UTC  \n",
       "99995        Display  2023-04-26 19:25:09.399335 UTC  \n",
       "99996         Search  2023-04-26 19:29:08.280281 UTC  \n",
       "99997         Search  2023-04-26 19:29:23.730034 UTC  \n",
       "99998         Search  2023-04-26 19:33:36.935949 UTC  \n",
       "99999         Search  2023-04-26 19:35:28.485865 UTC  "
      ]
     },
     "execution_count": 440,
     "metadata": {},
     "output_type": "execute_result"
    }
   ],
   "source": [
    "# the tail function\n",
    "df_users.tail(6)"
   ]
  },
  {
   "cell_type": "code",
   "execution_count": 441,
   "id": "426c1934",
   "metadata": {},
   "outputs": [
    {
     "data": {
      "text/html": [
       "<div>\n",
       "<style scoped>\n",
       "    .dataframe tbody tr th:only-of-type {\n",
       "        vertical-align: middle;\n",
       "    }\n",
       "\n",
       "    .dataframe tbody tr th {\n",
       "        vertical-align: top;\n",
       "    }\n",
       "\n",
       "    .dataframe thead th {\n",
       "        text-align: right;\n",
       "    }\n",
       "</style>\n",
       "<table border=\"1\" class=\"dataframe\">\n",
       "  <thead>\n",
       "    <tr style=\"text-align: right;\">\n",
       "      <th></th>\n",
       "      <th>id</th>\n",
       "      <th>first_name</th>\n",
       "      <th>last_name</th>\n",
       "      <th>phone_number</th>\n",
       "      <th>email</th>\n",
       "      <th>age</th>\n",
       "      <th>gender</th>\n",
       "      <th>state</th>\n",
       "      <th>street_address</th>\n",
       "      <th>postal_code</th>\n",
       "      <th>city</th>\n",
       "      <th>country</th>\n",
       "      <th>latitude</th>\n",
       "      <th>longitude</th>\n",
       "      <th>traffic_source</th>\n",
       "      <th>created_at</th>\n",
       "    </tr>\n",
       "  </thead>\n",
       "  <tbody>\n",
       "    <tr>\n",
       "      <th>99752</th>\n",
       "      <td>89951</td>\n",
       "      <td>Michael</td>\n",
       "      <td>Scott</td>\n",
       "      <td>NaN</td>\n",
       "      <td>michaelscott@example.com</td>\n",
       "      <td>33.0</td>\n",
       "      <td>M</td>\n",
       "      <td>Gyeonggi-do</td>\n",
       "      <td>62022 Harmon Turnpike Apt. 635</td>\n",
       "      <td>472-870</td>\n",
       "      <td>Namyangju City</td>\n",
       "      <td>South Korea</td>\n",
       "      <td>37.568138</td>\n",
       "      <td>127.299258</td>\n",
       "      <td>Search</td>\n",
       "      <td>2023-04-26 10:29:00 UTC</td>\n",
       "    </tr>\n",
       "    <tr>\n",
       "      <th>27995</th>\n",
       "      <td>39530</td>\n",
       "      <td>Sydney</td>\n",
       "      <td>Bates</td>\n",
       "      <td>NaN</td>\n",
       "      <td>sydneybates@example.org</td>\n",
       "      <td>64.0</td>\n",
       "      <td>F</td>\n",
       "      <td>Shanghai</td>\n",
       "      <td>8551 Lopez Terrace Apt. 336</td>\n",
       "      <td>200011</td>\n",
       "      <td>Yangquan</td>\n",
       "      <td>China</td>\n",
       "      <td>31.194115</td>\n",
       "      <td>121.502122</td>\n",
       "      <td>Search</td>\n",
       "      <td>2020-03-27 15:23:00 UTC</td>\n",
       "    </tr>\n",
       "    <tr>\n",
       "      <th>73503</th>\n",
       "      <td>97547</td>\n",
       "      <td>Kimberly</td>\n",
       "      <td>Davis</td>\n",
       "      <td>NaN</td>\n",
       "      <td>kimberlydavis@example.com</td>\n",
       "      <td>15.0</td>\n",
       "      <td>F</td>\n",
       "      <td>Bahia</td>\n",
       "      <td>283 Harvey Squares Apt. 461</td>\n",
       "      <td>48500-000</td>\n",
       "      <td>Euclides da Cunha</td>\n",
       "      <td>Brasil</td>\n",
       "      <td>-10.464100</td>\n",
       "      <td>-38.876627</td>\n",
       "      <td>Search</td>\n",
       "      <td>2022-04-06 08:49:00 UTC</td>\n",
       "    </tr>\n",
       "    <tr>\n",
       "      <th>52453</th>\n",
       "      <td>71601</td>\n",
       "      <td>Mike</td>\n",
       "      <td>Garrett</td>\n",
       "      <td>1.800125e+09</td>\n",
       "      <td>mikegarrett@example.org</td>\n",
       "      <td>49.0</td>\n",
       "      <td>M</td>\n",
       "      <td>Illinois</td>\n",
       "      <td>6067 Brown Cove</td>\n",
       "      <td>60411</td>\n",
       "      <td>Chicago Heights</td>\n",
       "      <td>United States</td>\n",
       "      <td>41.507851</td>\n",
       "      <td>-87.591454</td>\n",
       "      <td>Search</td>\n",
       "      <td>2021-04-28 01:43:00 UTC</td>\n",
       "    </tr>\n",
       "    <tr>\n",
       "      <th>17300</th>\n",
       "      <td>9806</td>\n",
       "      <td>Pamela</td>\n",
       "      <td>Hawkins</td>\n",
       "      <td>NaN</td>\n",
       "      <td>pamelahawkins@example.org</td>\n",
       "      <td>69.0</td>\n",
       "      <td>F</td>\n",
       "      <td>Shandong</td>\n",
       "      <td>5667 Robert Ridge</td>\n",
       "      <td>250061</td>\n",
       "      <td>Chengdu</td>\n",
       "      <td>China</td>\n",
       "      <td>36.630545</td>\n",
       "      <td>117.049800</td>\n",
       "      <td>Search</td>\n",
       "      <td>2019-10-08 05:11:00 UTC</td>\n",
       "    </tr>\n",
       "  </tbody>\n",
       "</table>\n",
       "</div>"
      ],
      "text/plain": [
       "          id first_name last_name  phone_number                      email  \\\n",
       "99752  89951    Michael     Scott           NaN   michaelscott@example.com   \n",
       "27995  39530     Sydney     Bates           NaN    sydneybates@example.org   \n",
       "73503  97547   Kimberly     Davis           NaN  kimberlydavis@example.com   \n",
       "52453  71601       Mike   Garrett  1.800125e+09    mikegarrett@example.org   \n",
       "17300   9806     Pamela   Hawkins           NaN  pamelahawkins@example.org   \n",
       "\n",
       "        age gender        state                  street_address postal_code  \\\n",
       "99752  33.0      M  Gyeonggi-do  62022 Harmon Turnpike Apt. 635     472-870   \n",
       "27995  64.0      F     Shanghai     8551 Lopez Terrace Apt. 336      200011   \n",
       "73503  15.0      F        Bahia     283 Harvey Squares Apt. 461   48500-000   \n",
       "52453  49.0      M     Illinois                 6067 Brown Cove       60411   \n",
       "17300  69.0      F     Shandong               5667 Robert Ridge      250061   \n",
       "\n",
       "                    city        country   latitude   longitude traffic_source  \\\n",
       "99752     Namyangju City    South Korea  37.568138  127.299258         Search   \n",
       "27995           Yangquan          China  31.194115  121.502122         Search   \n",
       "73503  Euclides da Cunha         Brasil -10.464100  -38.876627         Search   \n",
       "52453    Chicago Heights  United States  41.507851  -87.591454         Search   \n",
       "17300            Chengdu          China  36.630545  117.049800         Search   \n",
       "\n",
       "                    created_at  \n",
       "99752  2023-04-26 10:29:00 UTC  \n",
       "27995  2020-03-27 15:23:00 UTC  \n",
       "73503  2022-04-06 08:49:00 UTC  \n",
       "52453  2021-04-28 01:43:00 UTC  \n",
       "17300  2019-10-08 05:11:00 UTC  "
      ]
     },
     "execution_count": 441,
     "metadata": {},
     "output_type": "execute_result"
    }
   ],
   "source": [
    "# sample function\n",
    "df_users.sample(5)"
   ]
  },
  {
   "cell_type": "markdown",
   "id": "b89b543c",
   "metadata": {},
   "source": [
    "### Describing the data\n",
    "1. info\n",
    "2. describe\n",
    "\n",
    "`dataframe.info()` summarizes:\n",
    "* The number of rows and columns present\n",
    "* It counts not null values present\n",
    "* Datatypes that are present"
   ]
  },
  {
   "cell_type": "code",
   "execution_count": 442,
   "id": "35a90275",
   "metadata": {},
   "outputs": [
    {
     "name": "stdout",
     "output_type": "stream",
     "text": [
      "<class 'pandas.core.frame.DataFrame'>\n",
      "RangeIndex: 100000 entries, 0 to 99999\n",
      "Data columns (total 16 columns):\n",
      " #   Column          Non-Null Count   Dtype  \n",
      "---  ------          --------------   -----  \n",
      " 0   id              100000 non-null  int64  \n",
      " 1   first_name      100000 non-null  object \n",
      " 2   last_name       100000 non-null  object \n",
      " 3   phone_number    22669 non-null   float64\n",
      " 4   email           99999 non-null   object \n",
      " 5   age             99998 non-null   float64\n",
      " 6   gender          100000 non-null  object \n",
      " 7   state           100000 non-null  object \n",
      " 8   street_address  100000 non-null  object \n",
      " 9   postal_code     100000 non-null  object \n",
      " 10  city            99007 non-null   object \n",
      " 11  country         100000 non-null  object \n",
      " 12  latitude        99998 non-null   float64\n",
      " 13  longitude       99998 non-null   float64\n",
      " 14  traffic_source  100000 non-null  object \n",
      " 15  created_at      100000 non-null  object \n",
      "dtypes: float64(4), int64(1), object(11)\n",
      "memory usage: 12.2+ MB\n"
     ]
    }
   ],
   "source": [
    "df_users.info()"
   ]
  },
  {
   "cell_type": "markdown",
   "id": "266fd1ec",
   "metadata": {},
   "source": [
    "#### Issue log\n",
    "1. Null values in phone number, email, age, city, longitude and latitude fields\n",
    "2. Id, phone number, age, latitude and longitude have inaccurate data types"
   ]
  },
  {
   "cell_type": "code",
   "execution_count": 443,
   "id": "85705c63",
   "metadata": {},
   "outputs": [
    {
     "data": {
      "text/html": [
       "<div>\n",
       "<style scoped>\n",
       "    .dataframe tbody tr th:only-of-type {\n",
       "        vertical-align: middle;\n",
       "    }\n",
       "\n",
       "    .dataframe tbody tr th {\n",
       "        vertical-align: top;\n",
       "    }\n",
       "\n",
       "    .dataframe thead th {\n",
       "        text-align: right;\n",
       "    }\n",
       "</style>\n",
       "<table border=\"1\" class=\"dataframe\">\n",
       "  <thead>\n",
       "    <tr style=\"text-align: right;\">\n",
       "      <th></th>\n",
       "      <th>id</th>\n",
       "      <th>phone_number</th>\n",
       "      <th>age</th>\n",
       "      <th>latitude</th>\n",
       "      <th>longitude</th>\n",
       "    </tr>\n",
       "  </thead>\n",
       "  <tbody>\n",
       "    <tr>\n",
       "      <th>count</th>\n",
       "      <td>100000.000000</td>\n",
       "      <td>2.266900e+04</td>\n",
       "      <td>99998.000000</td>\n",
       "      <td>99998.000000</td>\n",
       "      <td>99998.000000</td>\n",
       "    </tr>\n",
       "    <tr>\n",
       "      <th>mean</th>\n",
       "      <td>50000.500000</td>\n",
       "      <td>1.800250e+09</td>\n",
       "      <td>41.006170</td>\n",
       "      <td>28.305884</td>\n",
       "      <td>24.344178</td>\n",
       "    </tr>\n",
       "    <tr>\n",
       "      <th>std</th>\n",
       "      <td>28867.657797</td>\n",
       "      <td>2.262793e+07</td>\n",
       "      <td>17.033479</td>\n",
       "      <td>22.052213</td>\n",
       "      <td>89.964565</td>\n",
       "    </tr>\n",
       "    <tr>\n",
       "      <th>min</th>\n",
       "      <td>1.000000</td>\n",
       "      <td>1.800387e+07</td>\n",
       "      <td>12.000000</td>\n",
       "      <td>-43.160756</td>\n",
       "      <td>-158.164931</td>\n",
       "    </tr>\n",
       "    <tr>\n",
       "      <th>25%</th>\n",
       "      <td>25000.750000</td>\n",
       "      <td>1.800324e+09</td>\n",
       "      <td>26.000000</td>\n",
       "      <td>26.110473</td>\n",
       "      <td>-51.049500</td>\n",
       "    </tr>\n",
       "    <tr>\n",
       "      <th>50%</th>\n",
       "      <td>50000.500000</td>\n",
       "      <td>1.800550e+09</td>\n",
       "      <td>41.000000</td>\n",
       "      <td>35.247482</td>\n",
       "      <td>4.411841</td>\n",
       "    </tr>\n",
       "    <tr>\n",
       "      <th>75%</th>\n",
       "      <td>75000.250000</td>\n",
       "      <td>1.800773e+09</td>\n",
       "      <td>56.000000</td>\n",
       "      <td>40.725404</td>\n",
       "      <td>116.345098</td>\n",
       "    </tr>\n",
       "    <tr>\n",
       "      <th>max</th>\n",
       "      <td>100000.000000</td>\n",
       "      <td>1.801000e+09</td>\n",
       "      <td>70.000000</td>\n",
       "      <td>64.865194</td>\n",
       "      <td>153.560238</td>\n",
       "    </tr>\n",
       "  </tbody>\n",
       "</table>\n",
       "</div>"
      ],
      "text/plain": [
       "                  id  phone_number           age      latitude     longitude\n",
       "count  100000.000000  2.266900e+04  99998.000000  99998.000000  99998.000000\n",
       "mean    50000.500000  1.800250e+09     41.006170     28.305884     24.344178\n",
       "std     28867.657797  2.262793e+07     17.033479     22.052213     89.964565\n",
       "min         1.000000  1.800387e+07     12.000000    -43.160756   -158.164931\n",
       "25%     25000.750000  1.800324e+09     26.000000     26.110473    -51.049500\n",
       "50%     50000.500000  1.800550e+09     41.000000     35.247482      4.411841\n",
       "75%     75000.250000  1.800773e+09     56.000000     40.725404    116.345098\n",
       "max    100000.000000  1.801000e+09     70.000000     64.865194    153.560238"
      ]
     },
     "execution_count": 443,
     "metadata": {},
     "output_type": "execute_result"
    }
   ],
   "source": [
    "df_users.describe()"
   ]
  },
  {
   "cell_type": "markdown",
   "id": "696a5aed",
   "metadata": {},
   "source": [
    "#### Number of rows and columns present: df.shape"
   ]
  },
  {
   "cell_type": "code",
   "execution_count": 444,
   "id": "ad7f7a89",
   "metadata": {},
   "outputs": [
    {
     "data": {
      "text/plain": [
       "(100000, 16)"
      ]
     },
     "execution_count": 444,
     "metadata": {},
     "output_type": "execute_result"
    }
   ],
   "source": [
    "df_users.shape"
   ]
  },
  {
   "cell_type": "code",
   "execution_count": 445,
   "id": "b8561cc1",
   "metadata": {},
   "outputs": [
    {
     "data": {
      "text/plain": [
       "100000"
      ]
     },
     "execution_count": 445,
     "metadata": {},
     "output_type": "execute_result"
    }
   ],
   "source": [
    "# separate rows\n",
    "df_users.shape[0]"
   ]
  },
  {
   "cell_type": "code",
   "execution_count": 446,
   "id": "2ff375e4",
   "metadata": {},
   "outputs": [
    {
     "data": {
      "text/plain": [
       "100000"
      ]
     },
     "execution_count": 446,
     "metadata": {},
     "output_type": "execute_result"
    }
   ],
   "source": [
    "len(df_users)"
   ]
  },
  {
   "cell_type": "code",
   "execution_count": 447,
   "id": "2e0ef086",
   "metadata": {},
   "outputs": [
    {
     "data": {
      "text/plain": [
       "16"
      ]
     },
     "execution_count": 447,
     "metadata": {},
     "output_type": "execute_result"
    }
   ],
   "source": [
    "# separate columns\n",
    "df_users.shape[1]"
   ]
  },
  {
   "cell_type": "markdown",
   "id": "8329cc81",
   "metadata": {},
   "source": [
    "#### Count not null values: df.notna().sum()"
   ]
  },
  {
   "cell_type": "code",
   "execution_count": 448,
   "id": "13f9b7ff",
   "metadata": {},
   "outputs": [
    {
     "data": {
      "text/plain": [
       "id                100000\n",
       "first_name        100000\n",
       "last_name         100000\n",
       "phone_number       22669\n",
       "email              99999\n",
       "age                99998\n",
       "gender            100000\n",
       "state             100000\n",
       "street_address    100000\n",
       "postal_code       100000\n",
       "city               99007\n",
       "country           100000\n",
       "latitude           99998\n",
       "longitude          99998\n",
       "traffic_source    100000\n",
       "created_at        100000\n",
       "dtype: int64"
      ]
     },
     "execution_count": 448,
     "metadata": {},
     "output_type": "execute_result"
    }
   ],
   "source": [
    "# count not null values\n",
    "df_users.notnull().sum()"
   ]
  },
  {
   "cell_type": "code",
   "execution_count": 449,
   "id": "ab9ec539",
   "metadata": {},
   "outputs": [
    {
     "data": {
      "text/plain": [
       "id                    0\n",
       "first_name            0\n",
       "last_name             0\n",
       "phone_number      77331\n",
       "email                 1\n",
       "age                   2\n",
       "gender                0\n",
       "state                 0\n",
       "street_address        0\n",
       "postal_code           0\n",
       "city                993\n",
       "country               0\n",
       "latitude              2\n",
       "longitude             2\n",
       "traffic_source        0\n",
       "created_at            0\n",
       "dtype: int64"
      ]
     },
     "execution_count": 449,
     "metadata": {},
     "output_type": "execute_result"
    }
   ],
   "source": [
    "# count null values\n",
    "df_users.isnull().sum()"
   ]
  },
  {
   "cell_type": "code",
   "execution_count": 450,
   "id": "ebeb99f7",
   "metadata": {},
   "outputs": [
    {
     "data": {
      "text/plain": [
       "99007"
      ]
     },
     "execution_count": 450,
     "metadata": {},
     "output_type": "execute_result"
    }
   ],
   "source": [
    "# not null for the city column\n",
    "df_users['city'].notnull().sum()"
   ]
  },
  {
   "cell_type": "code",
   "execution_count": 451,
   "id": "e70c1f75",
   "metadata": {},
   "outputs": [
    {
     "data": {
      "text/plain": [
       "99007"
      ]
     },
     "execution_count": 451,
     "metadata": {},
     "output_type": "execute_result"
    }
   ],
   "source": [
    "# not null for the city column\n",
    "df_users.city.notnull().sum()"
   ]
  },
  {
   "cell_type": "markdown",
   "id": "3662b3c5",
   "metadata": {},
   "source": [
    "#### Know datatypes: df.dtypes"
   ]
  },
  {
   "cell_type": "code",
   "execution_count": 452,
   "id": "470c6296",
   "metadata": {},
   "outputs": [
    {
     "data": {
      "text/plain": [
       "id                  int64\n",
       "first_name         object\n",
       "last_name          object\n",
       "phone_number      float64\n",
       "email              object\n",
       "age               float64\n",
       "gender             object\n",
       "state              object\n",
       "street_address     object\n",
       "postal_code        object\n",
       "city               object\n",
       "country            object\n",
       "latitude          float64\n",
       "longitude         float64\n",
       "traffic_source     object\n",
       "created_at         object\n",
       "dtype: object"
      ]
     },
     "execution_count": 452,
     "metadata": {},
     "output_type": "execute_result"
    }
   ],
   "source": [
    "df_users.dtypes"
   ]
  },
  {
   "cell_type": "code",
   "execution_count": 453,
   "id": "6329f6f9",
   "metadata": {},
   "outputs": [
    {
     "data": {
      "text/plain": [
       "dtype('O')"
      ]
     },
     "execution_count": 453,
     "metadata": {},
     "output_type": "execute_result"
    }
   ],
   "source": [
    "df_users.city.dtypes"
   ]
  },
  {
   "cell_type": "code",
   "execution_count": 454,
   "id": "175e0746",
   "metadata": {},
   "outputs": [
    {
     "data": {
      "text/plain": [
       "dtype('O')"
      ]
     },
     "execution_count": 454,
     "metadata": {},
     "output_type": "execute_result"
    }
   ],
   "source": [
    "df_users['city'].dtypes"
   ]
  },
  {
   "cell_type": "code",
   "execution_count": 455,
   "id": "18bc1724",
   "metadata": {},
   "outputs": [
    {
     "data": {
      "text/plain": [
       "dtype('float64')"
      ]
     },
     "execution_count": 455,
     "metadata": {},
     "output_type": "execute_result"
    }
   ],
   "source": [
    "df_users.age.dtypes"
   ]
  },
  {
   "cell_type": "code",
   "execution_count": 456,
   "id": "35cb7bc2",
   "metadata": {},
   "outputs": [
    {
     "data": {
      "text/plain": [
       "dtype('int64')"
      ]
     },
     "execution_count": 456,
     "metadata": {},
     "output_type": "execute_result"
    }
   ],
   "source": [
    "df_users.id.dtypes"
   ]
  },
  {
   "cell_type": "markdown",
   "id": "8da38c9f",
   "metadata": {},
   "source": [
    "#### Check for duplicates"
   ]
  },
  {
   "cell_type": "code",
   "execution_count": 457,
   "id": "f960a9dd",
   "metadata": {},
   "outputs": [
    {
     "data": {
      "text/plain": [
       "0"
      ]
     },
     "execution_count": 457,
     "metadata": {},
     "output_type": "execute_result"
    }
   ],
   "source": [
    "df_users.duplicated().sum()"
   ]
  },
  {
   "cell_type": "code",
   "execution_count": 458,
   "id": "d054fb98",
   "metadata": {},
   "outputs": [
    {
     "data": {
      "text/plain": [
       "16170"
      ]
     },
     "execution_count": 458,
     "metadata": {},
     "output_type": "execute_result"
    }
   ],
   "source": [
    "df_users['email'].duplicated().sum()"
   ]
  },
  {
   "cell_type": "code",
   "execution_count": 459,
   "id": "df66da6e",
   "metadata": {},
   "outputs": [
    {
     "data": {
      "text/plain": [
       "0"
      ]
     },
     "execution_count": 459,
     "metadata": {},
     "output_type": "execute_result"
    }
   ],
   "source": [
    "df_users.duplicated(['email','id']).sum()"
   ]
  },
  {
   "cell_type": "markdown",
   "id": "3f3758f9",
   "metadata": {},
   "source": [
    "## Data Cleaning"
   ]
  },
  {
   "cell_type": "markdown",
   "id": "5854bc11",
   "metadata": {},
   "source": [
    "1. Trim whitespace\n",
    "2. Join first and last name together in one column in proper case\n",
    "3. Remove phone numbers with incorrect length if any\n",
    "4. Id and phone number columns should be strings not numbers\n",
    "5. Clean email domain names and write all emails in lower case\n",
    "6. Check for duplicate email addresses as this can point to same user\n",
    "7. Fill up blank ages with the mean ages\n",
    "8. Join latitude and longitude together\n",
    "9. Remove UTC from created at column\n",
    "10. Clean out the country column: Brazil and Brasil; Espana and Spain; Deutschland and Germany\n",
    "11. Change Los Angeles state to California state"
   ]
  },
  {
   "cell_type": "markdown",
   "id": "24278c2b",
   "metadata": {},
   "source": [
    "**Make a copy of the dataframe and perform our cleaning on the copy**"
   ]
  },
  {
   "cell_type": "code",
   "execution_count": 460,
   "id": "f057edb5",
   "metadata": {},
   "outputs": [],
   "source": [
    "df_users_clean = df_users.copy()"
   ]
  },
  {
   "cell_type": "markdown",
   "id": "4b127a95",
   "metadata": {},
   "source": [
    "1. Trim whitespace\n",
    "Function to use is the `.str.strip()`. The alternatives are `.str.lstrip()` and `.str.rstrip()`.\n",
    "\n",
    "To trim whitespace in the id column, we need to convert this column to a string first. The function we use to convert datatypes is .astype(). Inside the bracket, you write the new datatype that you want. Common ways to write the new datatype are str for string, int for integer, float for numbers with decimals."
   ]
  },
  {
   "cell_type": "code",
   "execution_count": 461,
   "id": "351b1922",
   "metadata": {},
   "outputs": [
    {
     "data": {
      "text/plain": [
       "id                  int64\n",
       "first_name         object\n",
       "last_name          object\n",
       "phone_number      float64\n",
       "email              object\n",
       "age               float64\n",
       "gender             object\n",
       "state              object\n",
       "street_address     object\n",
       "postal_code        object\n",
       "city               object\n",
       "country            object\n",
       "latitude          float64\n",
       "longitude         float64\n",
       "traffic_source     object\n",
       "created_at         object\n",
       "dtype: object"
      ]
     },
     "execution_count": 461,
     "metadata": {},
     "output_type": "execute_result"
    }
   ],
   "source": [
    "df_users_clean.dtypes"
   ]
  },
  {
   "cell_type": "code",
   "execution_count": 462,
   "id": "6b249f8b",
   "metadata": {},
   "outputs": [],
   "source": [
    "df_users_clean['id'] = df_users_clean['id'].astype(str)"
   ]
  },
  {
   "cell_type": "markdown",
   "id": "965c960c",
   "metadata": {},
   "source": [
    "Test"
   ]
  },
  {
   "cell_type": "code",
   "execution_count": 463,
   "id": "9707b3cf",
   "metadata": {},
   "outputs": [
    {
     "data": {
      "text/plain": [
       "dtype('O')"
      ]
     },
     "execution_count": 463,
     "metadata": {},
     "output_type": "execute_result"
    }
   ],
   "source": [
    "df_users_clean['id'].dtypes"
   ]
  },
  {
   "cell_type": "code",
   "execution_count": 464,
   "id": "6eac05f9",
   "metadata": {},
   "outputs": [
    {
     "data": {
      "text/plain": [
       "id                 object\n",
       "first_name         object\n",
       "last_name          object\n",
       "phone_number      float64\n",
       "email              object\n",
       "age               float64\n",
       "gender             object\n",
       "state              object\n",
       "street_address     object\n",
       "postal_code        object\n",
       "city               object\n",
       "country            object\n",
       "latitude          float64\n",
       "longitude         float64\n",
       "traffic_source     object\n",
       "created_at         object\n",
       "dtype: object"
      ]
     },
     "execution_count": 464,
     "metadata": {},
     "output_type": "execute_result"
    }
   ],
   "source": [
    "df_users_clean.dtypes"
   ]
  },
  {
   "cell_type": "markdown",
   "id": "b0eb8c4e",
   "metadata": {},
   "source": [
    "To trim whitespace in the id column:"
   ]
  },
  {
   "cell_type": "code",
   "execution_count": 465,
   "id": "21d8b966",
   "metadata": {},
   "outputs": [],
   "source": [
    "df_users_clean['id'] = df_users_clean['id'].str.strip()"
   ]
  },
  {
   "cell_type": "markdown",
   "id": "5766d212",
   "metadata": {},
   "source": [
    "To trim whitespace in all string columns\n",
    "1. Identify the columns that are strings with an if condition\n",
    "2. Group them all together\n",
    "3. Run a for loop to strip all the identified columns"
   ]
  },
  {
   "cell_type": "markdown",
   "id": "281f01f9",
   "metadata": {},
   "source": [
    "List out all the columns"
   ]
  },
  {
   "cell_type": "code",
   "execution_count": 466,
   "id": "725d9298",
   "metadata": {},
   "outputs": [
    {
     "data": {
      "text/plain": [
       "Index(['id', 'first_name', 'last_name', 'phone_number', 'email', 'age',\n",
       "       'gender', 'state', 'street_address', 'postal_code', 'city', 'country',\n",
       "       'latitude', 'longitude', 'traffic_source', 'created_at'],\n",
       "      dtype='object')"
      ]
     },
     "execution_count": 466,
     "metadata": {},
     "output_type": "execute_result"
    }
   ],
   "source": [
    "df_users_clean.columns"
   ]
  },
  {
   "cell_type": "code",
   "execution_count": 467,
   "id": "56e0624a",
   "metadata": {},
   "outputs": [],
   "source": [
    "for column in df_users_clean.columns:\n",
    "    if df_users_clean[column].dtypes == 'object':\n",
    "        df_users_clean[column] = df_users_clean[column].str.strip()"
   ]
  },
  {
   "cell_type": "markdown",
   "id": "f3f7edd3",
   "metadata": {},
   "source": [
    "2. Join first name and last name columns together\n",
    "Function to use is the + sign"
   ]
  },
  {
   "cell_type": "code",
   "execution_count": 468,
   "id": "222c1e6c",
   "metadata": {},
   "outputs": [
    {
     "data": {
      "text/html": [
       "<div>\n",
       "<style scoped>\n",
       "    .dataframe tbody tr th:only-of-type {\n",
       "        vertical-align: middle;\n",
       "    }\n",
       "\n",
       "    .dataframe tbody tr th {\n",
       "        vertical-align: top;\n",
       "    }\n",
       "\n",
       "    .dataframe thead th {\n",
       "        text-align: right;\n",
       "    }\n",
       "</style>\n",
       "<table border=\"1\" class=\"dataframe\">\n",
       "  <thead>\n",
       "    <tr style=\"text-align: right;\">\n",
       "      <th></th>\n",
       "      <th>id</th>\n",
       "      <th>first_name</th>\n",
       "      <th>last_name</th>\n",
       "      <th>phone_number</th>\n",
       "      <th>email</th>\n",
       "      <th>age</th>\n",
       "      <th>gender</th>\n",
       "      <th>state</th>\n",
       "      <th>street_address</th>\n",
       "      <th>postal_code</th>\n",
       "      <th>city</th>\n",
       "      <th>country</th>\n",
       "      <th>latitude</th>\n",
       "      <th>longitude</th>\n",
       "      <th>traffic_source</th>\n",
       "      <th>created_at</th>\n",
       "    </tr>\n",
       "  </thead>\n",
       "  <tbody>\n",
       "    <tr>\n",
       "      <th>0</th>\n",
       "      <td>21304</td>\n",
       "      <td>Heidi</td>\n",
       "      <td>Hall</td>\n",
       "      <td>NaN</td>\n",
       "      <td>heidihall@example.net</td>\n",
       "      <td>70.0</td>\n",
       "      <td>F</td>\n",
       "      <td>Gyeonggi-do</td>\n",
       "      <td>9401 Howard Road Apt. 695</td>\n",
       "      <td>415-850</td>\n",
       "      <td>Gimpo City</td>\n",
       "      <td>South Korea</td>\n",
       "      <td>37.640589</td>\n",
       "      <td>126.566183</td>\n",
       "      <td>Search</td>\n",
       "      <td>2019-01-02 00:19:00 UTC</td>\n",
       "    </tr>\n",
       "    <tr>\n",
       "      <th>1</th>\n",
       "      <td>5012</td>\n",
       "      <td>Billy</td>\n",
       "      <td>Guerrero</td>\n",
       "      <td>1.800341e+09</td>\n",
       "      <td>billyguerrero@example.net</td>\n",
       "      <td>33.0</td>\n",
       "      <td>M</td>\n",
       "      <td>Texas</td>\n",
       "      <td>533 Patricia Roads Apt. 472</td>\n",
       "      <td>79928</td>\n",
       "      <td>Horizon City</td>\n",
       "      <td>United States</td>\n",
       "      <td>31.642378</td>\n",
       "      <td>-106.141715</td>\n",
       "      <td>Search</td>\n",
       "      <td>2019-01-02 00:29:00 UTC</td>\n",
       "    </tr>\n",
       "    <tr>\n",
       "      <th>2</th>\n",
       "      <td>27817</td>\n",
       "      <td>Antonio</td>\n",
       "      <td>Williams</td>\n",
       "      <td>NaN</td>\n",
       "      <td>antoniowilliams@example.net</td>\n",
       "      <td>20.0</td>\n",
       "      <td>M</td>\n",
       "      <td>Zhejiang</td>\n",
       "      <td>0381 Baker Stream Apt. 075</td>\n",
       "      <td>312599</td>\n",
       "      <td>Wuhan</td>\n",
       "      <td>China</td>\n",
       "      <td>29.504850</td>\n",
       "      <td>120.901029</td>\n",
       "      <td>Search</td>\n",
       "      <td>2019-01-02 00:35:00 UTC</td>\n",
       "    </tr>\n",
       "    <tr>\n",
       "      <th>3</th>\n",
       "      <td>14079</td>\n",
       "      <td>Ryan</td>\n",
       "      <td>Brown</td>\n",
       "      <td>NaN</td>\n",
       "      <td>ryanbrown@example.com</td>\n",
       "      <td>68.0</td>\n",
       "      <td>M</td>\n",
       "      <td>Bahia</td>\n",
       "      <td>277 Walker Mountains</td>\n",
       "      <td>45920-000</td>\n",
       "      <td>Nova Viçosa</td>\n",
       "      <td>Brasil</td>\n",
       "      <td>-17.900464</td>\n",
       "      <td>-39.716076</td>\n",
       "      <td>Search</td>\n",
       "      <td>2019-01-02 00:43:00 UTC</td>\n",
       "    </tr>\n",
       "    <tr>\n",
       "      <th>4</th>\n",
       "      <td>93946</td>\n",
       "      <td>Sabrina</td>\n",
       "      <td>Rodriguez</td>\n",
       "      <td>1.800594e+09</td>\n",
       "      <td>sabrinarodriguez@example.net</td>\n",
       "      <td>39.0</td>\n",
       "      <td>F</td>\n",
       "      <td>Florida</td>\n",
       "      <td>06720 Smith Summit Suite 860</td>\n",
       "      <td>34711</td>\n",
       "      <td>Clermont</td>\n",
       "      <td>United States</td>\n",
       "      <td>28.525665</td>\n",
       "      <td>-81.756419</td>\n",
       "      <td>Search</td>\n",
       "      <td>2019-01-02 01:14:00 UTC</td>\n",
       "    </tr>\n",
       "  </tbody>\n",
       "</table>\n",
       "</div>"
      ],
      "text/plain": [
       "      id first_name  last_name  phone_number                         email  \\\n",
       "0  21304      Heidi       Hall           NaN         heidihall@example.net   \n",
       "1   5012      Billy   Guerrero  1.800341e+09     billyguerrero@example.net   \n",
       "2  27817    Antonio   Williams           NaN   antoniowilliams@example.net   \n",
       "3  14079       Ryan      Brown           NaN         ryanbrown@example.com   \n",
       "4  93946    Sabrina  Rodriguez  1.800594e+09  sabrinarodriguez@example.net   \n",
       "\n",
       "    age gender        state                street_address postal_code  \\\n",
       "0  70.0      F  Gyeonggi-do     9401 Howard Road Apt. 695     415-850   \n",
       "1  33.0      M        Texas   533 Patricia Roads Apt. 472       79928   \n",
       "2  20.0      M     Zhejiang    0381 Baker Stream Apt. 075      312599   \n",
       "3  68.0      M        Bahia          277 Walker Mountains   45920-000   \n",
       "4  39.0      F      Florida  06720 Smith Summit Suite 860       34711   \n",
       "\n",
       "           city        country   latitude   longitude traffic_source  \\\n",
       "0    Gimpo City    South Korea  37.640589  126.566183         Search   \n",
       "1  Horizon City  United States  31.642378 -106.141715         Search   \n",
       "2         Wuhan          China  29.504850  120.901029         Search   \n",
       "3   Nova Viçosa         Brasil -17.900464  -39.716076         Search   \n",
       "4      Clermont  United States  28.525665  -81.756419         Search   \n",
       "\n",
       "                created_at  \n",
       "0  2019-01-02 00:19:00 UTC  \n",
       "1  2019-01-02 00:29:00 UTC  \n",
       "2  2019-01-02 00:35:00 UTC  \n",
       "3  2019-01-02 00:43:00 UTC  \n",
       "4  2019-01-02 01:14:00 UTC  "
      ]
     },
     "execution_count": 468,
     "metadata": {},
     "output_type": "execute_result"
    }
   ],
   "source": [
    "df_users_clean.head()"
   ]
  },
  {
   "cell_type": "code",
   "execution_count": 469,
   "id": "c049bea7",
   "metadata": {},
   "outputs": [],
   "source": [
    "df_users_clean['full_name'] = df_users_clean['first_name'] + ' ' + df_users_clean['last_name']"
   ]
  },
  {
   "cell_type": "code",
   "execution_count": 470,
   "id": "26f9be85",
   "metadata": {},
   "outputs": [
    {
     "data": {
      "text/html": [
       "<div>\n",
       "<style scoped>\n",
       "    .dataframe tbody tr th:only-of-type {\n",
       "        vertical-align: middle;\n",
       "    }\n",
       "\n",
       "    .dataframe tbody tr th {\n",
       "        vertical-align: top;\n",
       "    }\n",
       "\n",
       "    .dataframe thead th {\n",
       "        text-align: right;\n",
       "    }\n",
       "</style>\n",
       "<table border=\"1\" class=\"dataframe\">\n",
       "  <thead>\n",
       "    <tr style=\"text-align: right;\">\n",
       "      <th></th>\n",
       "      <th>id</th>\n",
       "      <th>first_name</th>\n",
       "      <th>last_name</th>\n",
       "      <th>phone_number</th>\n",
       "      <th>email</th>\n",
       "      <th>age</th>\n",
       "      <th>gender</th>\n",
       "      <th>state</th>\n",
       "      <th>street_address</th>\n",
       "      <th>postal_code</th>\n",
       "      <th>city</th>\n",
       "      <th>country</th>\n",
       "      <th>latitude</th>\n",
       "      <th>longitude</th>\n",
       "      <th>traffic_source</th>\n",
       "      <th>created_at</th>\n",
       "      <th>full_name</th>\n",
       "    </tr>\n",
       "  </thead>\n",
       "  <tbody>\n",
       "    <tr>\n",
       "      <th>0</th>\n",
       "      <td>21304</td>\n",
       "      <td>Heidi</td>\n",
       "      <td>Hall</td>\n",
       "      <td>NaN</td>\n",
       "      <td>heidihall@example.net</td>\n",
       "      <td>70.0</td>\n",
       "      <td>F</td>\n",
       "      <td>Gyeonggi-do</td>\n",
       "      <td>9401 Howard Road Apt. 695</td>\n",
       "      <td>415-850</td>\n",
       "      <td>Gimpo City</td>\n",
       "      <td>South Korea</td>\n",
       "      <td>37.640589</td>\n",
       "      <td>126.566183</td>\n",
       "      <td>Search</td>\n",
       "      <td>2019-01-02 00:19:00 UTC</td>\n",
       "      <td>Heidi Hall</td>\n",
       "    </tr>\n",
       "    <tr>\n",
       "      <th>1</th>\n",
       "      <td>5012</td>\n",
       "      <td>Billy</td>\n",
       "      <td>Guerrero</td>\n",
       "      <td>1.800341e+09</td>\n",
       "      <td>billyguerrero@example.net</td>\n",
       "      <td>33.0</td>\n",
       "      <td>M</td>\n",
       "      <td>Texas</td>\n",
       "      <td>533 Patricia Roads Apt. 472</td>\n",
       "      <td>79928</td>\n",
       "      <td>Horizon City</td>\n",
       "      <td>United States</td>\n",
       "      <td>31.642378</td>\n",
       "      <td>-106.141715</td>\n",
       "      <td>Search</td>\n",
       "      <td>2019-01-02 00:29:00 UTC</td>\n",
       "      <td>Billy Guerrero</td>\n",
       "    </tr>\n",
       "    <tr>\n",
       "      <th>2</th>\n",
       "      <td>27817</td>\n",
       "      <td>Antonio</td>\n",
       "      <td>Williams</td>\n",
       "      <td>NaN</td>\n",
       "      <td>antoniowilliams@example.net</td>\n",
       "      <td>20.0</td>\n",
       "      <td>M</td>\n",
       "      <td>Zhejiang</td>\n",
       "      <td>0381 Baker Stream Apt. 075</td>\n",
       "      <td>312599</td>\n",
       "      <td>Wuhan</td>\n",
       "      <td>China</td>\n",
       "      <td>29.504850</td>\n",
       "      <td>120.901029</td>\n",
       "      <td>Search</td>\n",
       "      <td>2019-01-02 00:35:00 UTC</td>\n",
       "      <td>Antonio Williams</td>\n",
       "    </tr>\n",
       "    <tr>\n",
       "      <th>3</th>\n",
       "      <td>14079</td>\n",
       "      <td>Ryan</td>\n",
       "      <td>Brown</td>\n",
       "      <td>NaN</td>\n",
       "      <td>ryanbrown@example.com</td>\n",
       "      <td>68.0</td>\n",
       "      <td>M</td>\n",
       "      <td>Bahia</td>\n",
       "      <td>277 Walker Mountains</td>\n",
       "      <td>45920-000</td>\n",
       "      <td>Nova Viçosa</td>\n",
       "      <td>Brasil</td>\n",
       "      <td>-17.900464</td>\n",
       "      <td>-39.716076</td>\n",
       "      <td>Search</td>\n",
       "      <td>2019-01-02 00:43:00 UTC</td>\n",
       "      <td>Ryan Brown</td>\n",
       "    </tr>\n",
       "    <tr>\n",
       "      <th>4</th>\n",
       "      <td>93946</td>\n",
       "      <td>Sabrina</td>\n",
       "      <td>Rodriguez</td>\n",
       "      <td>1.800594e+09</td>\n",
       "      <td>sabrinarodriguez@example.net</td>\n",
       "      <td>39.0</td>\n",
       "      <td>F</td>\n",
       "      <td>Florida</td>\n",
       "      <td>06720 Smith Summit Suite 860</td>\n",
       "      <td>34711</td>\n",
       "      <td>Clermont</td>\n",
       "      <td>United States</td>\n",
       "      <td>28.525665</td>\n",
       "      <td>-81.756419</td>\n",
       "      <td>Search</td>\n",
       "      <td>2019-01-02 01:14:00 UTC</td>\n",
       "      <td>Sabrina Rodriguez</td>\n",
       "    </tr>\n",
       "  </tbody>\n",
       "</table>\n",
       "</div>"
      ],
      "text/plain": [
       "      id first_name  last_name  phone_number                         email  \\\n",
       "0  21304      Heidi       Hall           NaN         heidihall@example.net   \n",
       "1   5012      Billy   Guerrero  1.800341e+09     billyguerrero@example.net   \n",
       "2  27817    Antonio   Williams           NaN   antoniowilliams@example.net   \n",
       "3  14079       Ryan      Brown           NaN         ryanbrown@example.com   \n",
       "4  93946    Sabrina  Rodriguez  1.800594e+09  sabrinarodriguez@example.net   \n",
       "\n",
       "    age gender        state                street_address postal_code  \\\n",
       "0  70.0      F  Gyeonggi-do     9401 Howard Road Apt. 695     415-850   \n",
       "1  33.0      M        Texas   533 Patricia Roads Apt. 472       79928   \n",
       "2  20.0      M     Zhejiang    0381 Baker Stream Apt. 075      312599   \n",
       "3  68.0      M        Bahia          277 Walker Mountains   45920-000   \n",
       "4  39.0      F      Florida  06720 Smith Summit Suite 860       34711   \n",
       "\n",
       "           city        country   latitude   longitude traffic_source  \\\n",
       "0    Gimpo City    South Korea  37.640589  126.566183         Search   \n",
       "1  Horizon City  United States  31.642378 -106.141715         Search   \n",
       "2         Wuhan          China  29.504850  120.901029         Search   \n",
       "3   Nova Viçosa         Brasil -17.900464  -39.716076         Search   \n",
       "4      Clermont  United States  28.525665  -81.756419         Search   \n",
       "\n",
       "                created_at          full_name  \n",
       "0  2019-01-02 00:19:00 UTC         Heidi Hall  \n",
       "1  2019-01-02 00:29:00 UTC     Billy Guerrero  \n",
       "2  2019-01-02 00:35:00 UTC   Antonio Williams  \n",
       "3  2019-01-02 00:43:00 UTC         Ryan Brown  \n",
       "4  2019-01-02 01:14:00 UTC  Sabrina Rodriguez  "
      ]
     },
     "execution_count": 470,
     "metadata": {},
     "output_type": "execute_result"
    }
   ],
   "source": [
    "df_users_clean.head()"
   ]
  },
  {
   "cell_type": "markdown",
   "id": "65da5e1e",
   "metadata": {},
   "source": [
    "3. Remove phone numbers with incorrect length if any\n",
    "To check the length of every phone number. The function to use is `.str.len()`\n",
    "First, we want to convert the phone number to a string"
   ]
  },
  {
   "cell_type": "code",
   "execution_count": 471,
   "id": "caabd495",
   "metadata": {},
   "outputs": [],
   "source": [
    "df_users_clean['phone_number'] = df_users_clean['phone_number'].astype(str)"
   ]
  },
  {
   "cell_type": "code",
   "execution_count": 472,
   "id": "09ebc535",
   "metadata": {},
   "outputs": [
    {
     "data": {
      "text/html": [
       "<div>\n",
       "<style scoped>\n",
       "    .dataframe tbody tr th:only-of-type {\n",
       "        vertical-align: middle;\n",
       "    }\n",
       "\n",
       "    .dataframe tbody tr th {\n",
       "        vertical-align: top;\n",
       "    }\n",
       "\n",
       "    .dataframe thead th {\n",
       "        text-align: right;\n",
       "    }\n",
       "</style>\n",
       "<table border=\"1\" class=\"dataframe\">\n",
       "  <thead>\n",
       "    <tr style=\"text-align: right;\">\n",
       "      <th></th>\n",
       "      <th>id</th>\n",
       "      <th>first_name</th>\n",
       "      <th>last_name</th>\n",
       "      <th>phone_number</th>\n",
       "      <th>email</th>\n",
       "      <th>age</th>\n",
       "      <th>gender</th>\n",
       "      <th>state</th>\n",
       "      <th>street_address</th>\n",
       "      <th>postal_code</th>\n",
       "      <th>city</th>\n",
       "      <th>country</th>\n",
       "      <th>latitude</th>\n",
       "      <th>longitude</th>\n",
       "      <th>traffic_source</th>\n",
       "      <th>created_at</th>\n",
       "      <th>full_name</th>\n",
       "    </tr>\n",
       "  </thead>\n",
       "  <tbody>\n",
       "    <tr>\n",
       "      <th>0</th>\n",
       "      <td>21304</td>\n",
       "      <td>Heidi</td>\n",
       "      <td>Hall</td>\n",
       "      <td>nan</td>\n",
       "      <td>heidihall@example.net</td>\n",
       "      <td>70.0</td>\n",
       "      <td>F</td>\n",
       "      <td>Gyeonggi-do</td>\n",
       "      <td>9401 Howard Road Apt. 695</td>\n",
       "      <td>415-850</td>\n",
       "      <td>Gimpo City</td>\n",
       "      <td>South Korea</td>\n",
       "      <td>37.640589</td>\n",
       "      <td>126.566183</td>\n",
       "      <td>Search</td>\n",
       "      <td>2019-01-02 00:19:00 UTC</td>\n",
       "      <td>Heidi Hall</td>\n",
       "    </tr>\n",
       "    <tr>\n",
       "      <th>1</th>\n",
       "      <td>5012</td>\n",
       "      <td>Billy</td>\n",
       "      <td>Guerrero</td>\n",
       "      <td>1800341483.0</td>\n",
       "      <td>billyguerrero@example.net</td>\n",
       "      <td>33.0</td>\n",
       "      <td>M</td>\n",
       "      <td>Texas</td>\n",
       "      <td>533 Patricia Roads Apt. 472</td>\n",
       "      <td>79928</td>\n",
       "      <td>Horizon City</td>\n",
       "      <td>United States</td>\n",
       "      <td>31.642378</td>\n",
       "      <td>-106.141715</td>\n",
       "      <td>Search</td>\n",
       "      <td>2019-01-02 00:29:00 UTC</td>\n",
       "      <td>Billy Guerrero</td>\n",
       "    </tr>\n",
       "    <tr>\n",
       "      <th>2</th>\n",
       "      <td>27817</td>\n",
       "      <td>Antonio</td>\n",
       "      <td>Williams</td>\n",
       "      <td>nan</td>\n",
       "      <td>antoniowilliams@example.net</td>\n",
       "      <td>20.0</td>\n",
       "      <td>M</td>\n",
       "      <td>Zhejiang</td>\n",
       "      <td>0381 Baker Stream Apt. 075</td>\n",
       "      <td>312599</td>\n",
       "      <td>Wuhan</td>\n",
       "      <td>China</td>\n",
       "      <td>29.504850</td>\n",
       "      <td>120.901029</td>\n",
       "      <td>Search</td>\n",
       "      <td>2019-01-02 00:35:00 UTC</td>\n",
       "      <td>Antonio Williams</td>\n",
       "    </tr>\n",
       "    <tr>\n",
       "      <th>3</th>\n",
       "      <td>14079</td>\n",
       "      <td>Ryan</td>\n",
       "      <td>Brown</td>\n",
       "      <td>nan</td>\n",
       "      <td>ryanbrown@example.com</td>\n",
       "      <td>68.0</td>\n",
       "      <td>M</td>\n",
       "      <td>Bahia</td>\n",
       "      <td>277 Walker Mountains</td>\n",
       "      <td>45920-000</td>\n",
       "      <td>Nova Viçosa</td>\n",
       "      <td>Brasil</td>\n",
       "      <td>-17.900464</td>\n",
       "      <td>-39.716076</td>\n",
       "      <td>Search</td>\n",
       "      <td>2019-01-02 00:43:00 UTC</td>\n",
       "      <td>Ryan Brown</td>\n",
       "    </tr>\n",
       "    <tr>\n",
       "      <th>4</th>\n",
       "      <td>93946</td>\n",
       "      <td>Sabrina</td>\n",
       "      <td>Rodriguez</td>\n",
       "      <td>1800594461.0</td>\n",
       "      <td>sabrinarodriguez@example.net</td>\n",
       "      <td>39.0</td>\n",
       "      <td>F</td>\n",
       "      <td>Florida</td>\n",
       "      <td>06720 Smith Summit Suite 860</td>\n",
       "      <td>34711</td>\n",
       "      <td>Clermont</td>\n",
       "      <td>United States</td>\n",
       "      <td>28.525665</td>\n",
       "      <td>-81.756419</td>\n",
       "      <td>Search</td>\n",
       "      <td>2019-01-02 01:14:00 UTC</td>\n",
       "      <td>Sabrina Rodriguez</td>\n",
       "    </tr>\n",
       "  </tbody>\n",
       "</table>\n",
       "</div>"
      ],
      "text/plain": [
       "      id first_name  last_name  phone_number                         email  \\\n",
       "0  21304      Heidi       Hall           nan         heidihall@example.net   \n",
       "1   5012      Billy   Guerrero  1800341483.0     billyguerrero@example.net   \n",
       "2  27817    Antonio   Williams           nan   antoniowilliams@example.net   \n",
       "3  14079       Ryan      Brown           nan         ryanbrown@example.com   \n",
       "4  93946    Sabrina  Rodriguez  1800594461.0  sabrinarodriguez@example.net   \n",
       "\n",
       "    age gender        state                street_address postal_code  \\\n",
       "0  70.0      F  Gyeonggi-do     9401 Howard Road Apt. 695     415-850   \n",
       "1  33.0      M        Texas   533 Patricia Roads Apt. 472       79928   \n",
       "2  20.0      M     Zhejiang    0381 Baker Stream Apt. 075      312599   \n",
       "3  68.0      M        Bahia          277 Walker Mountains   45920-000   \n",
       "4  39.0      F      Florida  06720 Smith Summit Suite 860       34711   \n",
       "\n",
       "           city        country   latitude   longitude traffic_source  \\\n",
       "0    Gimpo City    South Korea  37.640589  126.566183         Search   \n",
       "1  Horizon City  United States  31.642378 -106.141715         Search   \n",
       "2         Wuhan          China  29.504850  120.901029         Search   \n",
       "3   Nova Viçosa         Brasil -17.900464  -39.716076         Search   \n",
       "4      Clermont  United States  28.525665  -81.756419         Search   \n",
       "\n",
       "                created_at          full_name  \n",
       "0  2019-01-02 00:19:00 UTC         Heidi Hall  \n",
       "1  2019-01-02 00:29:00 UTC     Billy Guerrero  \n",
       "2  2019-01-02 00:35:00 UTC   Antonio Williams  \n",
       "3  2019-01-02 00:43:00 UTC         Ryan Brown  \n",
       "4  2019-01-02 01:14:00 UTC  Sabrina Rodriguez  "
      ]
     },
     "execution_count": 472,
     "metadata": {},
     "output_type": "execute_result"
    }
   ],
   "source": [
    "df_users_clean.head()"
   ]
  },
  {
   "cell_type": "markdown",
   "id": "aea2c49f",
   "metadata": {},
   "source": [
    "Second, we want to remove the point zero at the back. The function to use is `.str.replace()`. Within the bracket, you will specify three things\n",
    "1. What you want to replace\n",
    "2. What you want to replace it with\n",
    "3. Whether or not you are writing a regex(regular expression): There are two values, true or false"
   ]
  },
  {
   "cell_type": "code",
   "execution_count": 473,
   "id": "48a50d92",
   "metadata": {},
   "outputs": [],
   "source": [
    "df_users_clean['phone_number'] = df_users_clean['phone_number'].str.replace('.0', '', regex=False)"
   ]
  },
  {
   "cell_type": "code",
   "execution_count": 474,
   "id": "a5e773fb",
   "metadata": {},
   "outputs": [],
   "source": [
    "df_users_clean['phone_number'] = df_users_clean['phone_number'].replace('nan', '', regex=False)"
   ]
  },
  {
   "cell_type": "code",
   "execution_count": 475,
   "id": "1d4f736a",
   "metadata": {},
   "outputs": [
    {
     "data": {
      "text/html": [
       "<div>\n",
       "<style scoped>\n",
       "    .dataframe tbody tr th:only-of-type {\n",
       "        vertical-align: middle;\n",
       "    }\n",
       "\n",
       "    .dataframe tbody tr th {\n",
       "        vertical-align: top;\n",
       "    }\n",
       "\n",
       "    .dataframe thead th {\n",
       "        text-align: right;\n",
       "    }\n",
       "</style>\n",
       "<table border=\"1\" class=\"dataframe\">\n",
       "  <thead>\n",
       "    <tr style=\"text-align: right;\">\n",
       "      <th></th>\n",
       "      <th>id</th>\n",
       "      <th>first_name</th>\n",
       "      <th>last_name</th>\n",
       "      <th>phone_number</th>\n",
       "      <th>email</th>\n",
       "      <th>age</th>\n",
       "      <th>gender</th>\n",
       "      <th>state</th>\n",
       "      <th>street_address</th>\n",
       "      <th>postal_code</th>\n",
       "      <th>city</th>\n",
       "      <th>country</th>\n",
       "      <th>latitude</th>\n",
       "      <th>longitude</th>\n",
       "      <th>traffic_source</th>\n",
       "      <th>created_at</th>\n",
       "      <th>full_name</th>\n",
       "    </tr>\n",
       "  </thead>\n",
       "  <tbody>\n",
       "    <tr>\n",
       "      <th>0</th>\n",
       "      <td>21304</td>\n",
       "      <td>Heidi</td>\n",
       "      <td>Hall</td>\n",
       "      <td></td>\n",
       "      <td>heidihall@example.net</td>\n",
       "      <td>70.0</td>\n",
       "      <td>F</td>\n",
       "      <td>Gyeonggi-do</td>\n",
       "      <td>9401 Howard Road Apt. 695</td>\n",
       "      <td>415-850</td>\n",
       "      <td>Gimpo City</td>\n",
       "      <td>South Korea</td>\n",
       "      <td>37.640589</td>\n",
       "      <td>126.566183</td>\n",
       "      <td>Search</td>\n",
       "      <td>2019-01-02 00:19:00 UTC</td>\n",
       "      <td>Heidi Hall</td>\n",
       "    </tr>\n",
       "    <tr>\n",
       "      <th>1</th>\n",
       "      <td>5012</td>\n",
       "      <td>Billy</td>\n",
       "      <td>Guerrero</td>\n",
       "      <td>1800341483</td>\n",
       "      <td>billyguerrero@example.net</td>\n",
       "      <td>33.0</td>\n",
       "      <td>M</td>\n",
       "      <td>Texas</td>\n",
       "      <td>533 Patricia Roads Apt. 472</td>\n",
       "      <td>79928</td>\n",
       "      <td>Horizon City</td>\n",
       "      <td>United States</td>\n",
       "      <td>31.642378</td>\n",
       "      <td>-106.141715</td>\n",
       "      <td>Search</td>\n",
       "      <td>2019-01-02 00:29:00 UTC</td>\n",
       "      <td>Billy Guerrero</td>\n",
       "    </tr>\n",
       "    <tr>\n",
       "      <th>2</th>\n",
       "      <td>27817</td>\n",
       "      <td>Antonio</td>\n",
       "      <td>Williams</td>\n",
       "      <td></td>\n",
       "      <td>antoniowilliams@example.net</td>\n",
       "      <td>20.0</td>\n",
       "      <td>M</td>\n",
       "      <td>Zhejiang</td>\n",
       "      <td>0381 Baker Stream Apt. 075</td>\n",
       "      <td>312599</td>\n",
       "      <td>Wuhan</td>\n",
       "      <td>China</td>\n",
       "      <td>29.504850</td>\n",
       "      <td>120.901029</td>\n",
       "      <td>Search</td>\n",
       "      <td>2019-01-02 00:35:00 UTC</td>\n",
       "      <td>Antonio Williams</td>\n",
       "    </tr>\n",
       "    <tr>\n",
       "      <th>3</th>\n",
       "      <td>14079</td>\n",
       "      <td>Ryan</td>\n",
       "      <td>Brown</td>\n",
       "      <td></td>\n",
       "      <td>ryanbrown@example.com</td>\n",
       "      <td>68.0</td>\n",
       "      <td>M</td>\n",
       "      <td>Bahia</td>\n",
       "      <td>277 Walker Mountains</td>\n",
       "      <td>45920-000</td>\n",
       "      <td>Nova Viçosa</td>\n",
       "      <td>Brasil</td>\n",
       "      <td>-17.900464</td>\n",
       "      <td>-39.716076</td>\n",
       "      <td>Search</td>\n",
       "      <td>2019-01-02 00:43:00 UTC</td>\n",
       "      <td>Ryan Brown</td>\n",
       "    </tr>\n",
       "    <tr>\n",
       "      <th>4</th>\n",
       "      <td>93946</td>\n",
       "      <td>Sabrina</td>\n",
       "      <td>Rodriguez</td>\n",
       "      <td>1800594461</td>\n",
       "      <td>sabrinarodriguez@example.net</td>\n",
       "      <td>39.0</td>\n",
       "      <td>F</td>\n",
       "      <td>Florida</td>\n",
       "      <td>06720 Smith Summit Suite 860</td>\n",
       "      <td>34711</td>\n",
       "      <td>Clermont</td>\n",
       "      <td>United States</td>\n",
       "      <td>28.525665</td>\n",
       "      <td>-81.756419</td>\n",
       "      <td>Search</td>\n",
       "      <td>2019-01-02 01:14:00 UTC</td>\n",
       "      <td>Sabrina Rodriguez</td>\n",
       "    </tr>\n",
       "  </tbody>\n",
       "</table>\n",
       "</div>"
      ],
      "text/plain": [
       "      id first_name  last_name phone_number                         email  \\\n",
       "0  21304      Heidi       Hall                      heidihall@example.net   \n",
       "1   5012      Billy   Guerrero   1800341483     billyguerrero@example.net   \n",
       "2  27817    Antonio   Williams                antoniowilliams@example.net   \n",
       "3  14079       Ryan      Brown                      ryanbrown@example.com   \n",
       "4  93946    Sabrina  Rodriguez   1800594461  sabrinarodriguez@example.net   \n",
       "\n",
       "    age gender        state                street_address postal_code  \\\n",
       "0  70.0      F  Gyeonggi-do     9401 Howard Road Apt. 695     415-850   \n",
       "1  33.0      M        Texas   533 Patricia Roads Apt. 472       79928   \n",
       "2  20.0      M     Zhejiang    0381 Baker Stream Apt. 075      312599   \n",
       "3  68.0      M        Bahia          277 Walker Mountains   45920-000   \n",
       "4  39.0      F      Florida  06720 Smith Summit Suite 860       34711   \n",
       "\n",
       "           city        country   latitude   longitude traffic_source  \\\n",
       "0    Gimpo City    South Korea  37.640589  126.566183         Search   \n",
       "1  Horizon City  United States  31.642378 -106.141715         Search   \n",
       "2         Wuhan          China  29.504850  120.901029         Search   \n",
       "3   Nova Viçosa         Brasil -17.900464  -39.716076         Search   \n",
       "4      Clermont  United States  28.525665  -81.756419         Search   \n",
       "\n",
       "                created_at          full_name  \n",
       "0  2019-01-02 00:19:00 UTC         Heidi Hall  \n",
       "1  2019-01-02 00:29:00 UTC     Billy Guerrero  \n",
       "2  2019-01-02 00:35:00 UTC   Antonio Williams  \n",
       "3  2019-01-02 00:43:00 UTC         Ryan Brown  \n",
       "4  2019-01-02 01:14:00 UTC  Sabrina Rodriguez  "
      ]
     },
     "execution_count": 475,
     "metadata": {},
     "output_type": "execute_result"
    }
   ],
   "source": [
    "df_users_clean.head()"
   ]
  },
  {
   "cell_type": "markdown",
   "id": "19e9fffb",
   "metadata": {},
   "source": [
    "Third, we check the length of every phone number. The function to do that is `.str.len()`"
   ]
  },
  {
   "cell_type": "code",
   "execution_count": 476,
   "id": "6ecf3000",
   "metadata": {},
   "outputs": [],
   "source": [
    "df_users_clean['phone_number_length'] = df_users_clean['phone_number'].str.len()"
   ]
  },
  {
   "cell_type": "code",
   "execution_count": 477,
   "id": "7264eb71",
   "metadata": {},
   "outputs": [
    {
     "data": {
      "text/html": [
       "<div>\n",
       "<style scoped>\n",
       "    .dataframe tbody tr th:only-of-type {\n",
       "        vertical-align: middle;\n",
       "    }\n",
       "\n",
       "    .dataframe tbody tr th {\n",
       "        vertical-align: top;\n",
       "    }\n",
       "\n",
       "    .dataframe thead th {\n",
       "        text-align: right;\n",
       "    }\n",
       "</style>\n",
       "<table border=\"1\" class=\"dataframe\">\n",
       "  <thead>\n",
       "    <tr style=\"text-align: right;\">\n",
       "      <th></th>\n",
       "      <th>phone_number</th>\n",
       "      <th>phone_number_length</th>\n",
       "    </tr>\n",
       "  </thead>\n",
       "  <tbody>\n",
       "    <tr>\n",
       "      <th>0</th>\n",
       "      <td></td>\n",
       "      <td>0</td>\n",
       "    </tr>\n",
       "    <tr>\n",
       "      <th>1</th>\n",
       "      <td>1800341483</td>\n",
       "      <td>10</td>\n",
       "    </tr>\n",
       "    <tr>\n",
       "      <th>2</th>\n",
       "      <td></td>\n",
       "      <td>0</td>\n",
       "    </tr>\n",
       "    <tr>\n",
       "      <th>3</th>\n",
       "      <td></td>\n",
       "      <td>0</td>\n",
       "    </tr>\n",
       "    <tr>\n",
       "      <th>4</th>\n",
       "      <td>1800594461</td>\n",
       "      <td>10</td>\n",
       "    </tr>\n",
       "    <tr>\n",
       "      <th>...</th>\n",
       "      <td>...</td>\n",
       "      <td>...</td>\n",
       "    </tr>\n",
       "    <tr>\n",
       "      <th>99995</th>\n",
       "      <td>1800139067</td>\n",
       "      <td>10</td>\n",
       "    </tr>\n",
       "    <tr>\n",
       "      <th>99996</th>\n",
       "      <td></td>\n",
       "      <td>0</td>\n",
       "    </tr>\n",
       "    <tr>\n",
       "      <th>99997</th>\n",
       "      <td></td>\n",
       "      <td>0</td>\n",
       "    </tr>\n",
       "    <tr>\n",
       "      <th>99998</th>\n",
       "      <td>1800953985</td>\n",
       "      <td>10</td>\n",
       "    </tr>\n",
       "    <tr>\n",
       "      <th>99999</th>\n",
       "      <td></td>\n",
       "      <td>0</td>\n",
       "    </tr>\n",
       "  </tbody>\n",
       "</table>\n",
       "<p>100000 rows × 2 columns</p>\n",
       "</div>"
      ],
      "text/plain": [
       "      phone_number  phone_number_length\n",
       "0                                     0\n",
       "1       1800341483                   10\n",
       "2                                     0\n",
       "3                                     0\n",
       "4       1800594461                   10\n",
       "...            ...                  ...\n",
       "99995   1800139067                   10\n",
       "99996                                 0\n",
       "99997                                 0\n",
       "99998   1800953985                   10\n",
       "99999                                 0\n",
       "\n",
       "[100000 rows x 2 columns]"
      ]
     },
     "execution_count": 477,
     "metadata": {},
     "output_type": "execute_result"
    }
   ],
   "source": [
    "df_users_clean[['phone_number','phone_number_length']]"
   ]
  },
  {
   "cell_type": "code",
   "execution_count": 478,
   "id": "8f627e22",
   "metadata": {},
   "outputs": [
    {
     "data": {
      "text/plain": [
       "RangeIndex(start=0, stop=100000, step=1)"
      ]
     },
     "execution_count": 478,
     "metadata": {},
     "output_type": "execute_result"
    }
   ],
   "source": [
    "df_users_clean.index"
   ]
  },
  {
   "cell_type": "raw",
   "id": "ea65a259",
   "metadata": {},
   "source": [
    "To call specific rows and columns in a dataframe, we use two methods. `.loc` and `iloc`\n",
    "\n",
    "`.loc` works by calling the row number/row index and **column name**\n",
    "`.iloc` works by calling the row number/index and **column number/index**\n",
    "\n",
    "For example, to call the first row:"
   ]
  },
  {
   "cell_type": "code",
   "execution_count": 479,
   "id": "657290fd",
   "metadata": {},
   "outputs": [
    {
     "data": {
      "text/html": [
       "<div>\n",
       "<style scoped>\n",
       "    .dataframe tbody tr th:only-of-type {\n",
       "        vertical-align: middle;\n",
       "    }\n",
       "\n",
       "    .dataframe tbody tr th {\n",
       "        vertical-align: top;\n",
       "    }\n",
       "\n",
       "    .dataframe thead th {\n",
       "        text-align: right;\n",
       "    }\n",
       "</style>\n",
       "<table border=\"1\" class=\"dataframe\">\n",
       "  <thead>\n",
       "    <tr style=\"text-align: right;\">\n",
       "      <th></th>\n",
       "      <th>id</th>\n",
       "      <th>city</th>\n",
       "      <th>full_name</th>\n",
       "    </tr>\n",
       "  </thead>\n",
       "  <tbody>\n",
       "    <tr>\n",
       "      <th>100</th>\n",
       "      <td>45947</td>\n",
       "      <td>Tianjin</td>\n",
       "      <td>Desiree Vincent</td>\n",
       "    </tr>\n",
       "  </tbody>\n",
       "</table>\n",
       "</div>"
      ],
      "text/plain": [
       "        id     city        full_name\n",
       "100  45947  Tianjin  Desiree Vincent"
      ]
     },
     "execution_count": 479,
     "metadata": {},
     "output_type": "execute_result"
    }
   ],
   "source": [
    "df_users_clean.loc[[100], ['id', 'city', 'full_name']]"
   ]
  },
  {
   "cell_type": "code",
   "execution_count": 480,
   "id": "a05f53c1",
   "metadata": {},
   "outputs": [
    {
     "data": {
      "text/plain": [
       "id                     45947\n",
       "city                 Tianjin\n",
       "full_name    Desiree Vincent\n",
       "Name: 100, dtype: object"
      ]
     },
     "execution_count": 480,
     "metadata": {},
     "output_type": "execute_result"
    }
   ],
   "source": [
    "df_users_clean.loc[100, ['id', 'city', 'full_name']]"
   ]
  },
  {
   "cell_type": "code",
   "execution_count": 481,
   "id": "54c7b7c9",
   "metadata": {},
   "outputs": [
    {
     "data": {
      "text/html": [
       "<div>\n",
       "<style scoped>\n",
       "    .dataframe tbody tr th:only-of-type {\n",
       "        vertical-align: middle;\n",
       "    }\n",
       "\n",
       "    .dataframe tbody tr th {\n",
       "        vertical-align: top;\n",
       "    }\n",
       "\n",
       "    .dataframe thead th {\n",
       "        text-align: right;\n",
       "    }\n",
       "</style>\n",
       "<table border=\"1\" class=\"dataframe\">\n",
       "  <thead>\n",
       "    <tr style=\"text-align: right;\">\n",
       "      <th></th>\n",
       "      <th>id</th>\n",
       "      <th>city</th>\n",
       "      <th>full_name</th>\n",
       "    </tr>\n",
       "  </thead>\n",
       "  <tbody>\n",
       "    <tr>\n",
       "      <th>100</th>\n",
       "      <td>45947</td>\n",
       "      <td>Tianjin</td>\n",
       "      <td>Desiree Vincent</td>\n",
       "    </tr>\n",
       "  </tbody>\n",
       "</table>\n",
       "</div>"
      ],
      "text/plain": [
       "        id     city        full_name\n",
       "100  45947  Tianjin  Desiree Vincent"
      ]
     },
     "execution_count": 481,
     "metadata": {},
     "output_type": "execute_result"
    }
   ],
   "source": [
    "df_users_clean.iloc[[100], [0, 10, 16]]"
   ]
  },
  {
   "cell_type": "code",
   "execution_count": 482,
   "id": "580d51e3",
   "metadata": {},
   "outputs": [
    {
     "data": {
      "text/plain": [
       "id                     45947\n",
       "city                 Tianjin\n",
       "full_name    Desiree Vincent\n",
       "Name: 100, dtype: object"
      ]
     },
     "execution_count": 482,
     "metadata": {},
     "output_type": "execute_result"
    }
   ],
   "source": [
    "df_users_clean.iloc[100, [0, 10, 16]]"
   ]
  },
  {
   "cell_type": "markdown",
   "id": "6269e336",
   "metadata": {},
   "source": [
    "Next, we check how many distinct values we have in the length column. The function to use is `.unique()`"
   ]
  },
  {
   "cell_type": "code",
   "execution_count": 483,
   "id": "5db9dfbc",
   "metadata": {},
   "outputs": [
    {
     "data": {
      "text/plain": [
       "array([ 0, 10,  8,  9], dtype=int64)"
      ]
     },
     "execution_count": 483,
     "metadata": {},
     "output_type": "execute_result"
    }
   ],
   "source": [
    "df_users_clean['phone_number_length'].unique()"
   ]
  },
  {
   "cell_type": "markdown",
   "id": "81a3c8f9",
   "metadata": {},
   "source": [
    "for row in df_users_clean.index:\n",
    "    if df_users_clean.loc[row, 'phone_number_length'] != 10:\n",
    "        df_users_clean.loc[row, 'phone_number'] = ''"
   ]
  },
  {
   "cell_type": "code",
   "execution_count": 484,
   "id": "48a8c767",
   "metadata": {},
   "outputs": [],
   "source": [
    "df_users_clean['phone_number_length'] = df_users_clean['phone_number'].str.len()"
   ]
  },
  {
   "cell_type": "code",
   "execution_count": 485,
   "id": "3938f12b",
   "metadata": {},
   "outputs": [
    {
     "data": {
      "text/plain": [
       "array([ 0, 10,  8,  9], dtype=int64)"
      ]
     },
     "execution_count": 485,
     "metadata": {},
     "output_type": "execute_result"
    }
   ],
   "source": [
    "df_users_clean['phone_number_length'].unique()"
   ]
  },
  {
   "cell_type": "markdown",
   "id": "e9b03051",
   "metadata": {},
   "source": [
    "5. Clean email domain names and write all emails in lower case"
   ]
  },
  {
   "cell_type": "code",
   "execution_count": 486,
   "id": "c3364d9f",
   "metadata": {},
   "outputs": [
    {
     "data": {
      "text/html": [
       "<div>\n",
       "<style scoped>\n",
       "    .dataframe tbody tr th:only-of-type {\n",
       "        vertical-align: middle;\n",
       "    }\n",
       "\n",
       "    .dataframe tbody tr th {\n",
       "        vertical-align: top;\n",
       "    }\n",
       "\n",
       "    .dataframe thead th {\n",
       "        text-align: right;\n",
       "    }\n",
       "</style>\n",
       "<table border=\"1\" class=\"dataframe\">\n",
       "  <thead>\n",
       "    <tr style=\"text-align: right;\">\n",
       "      <th></th>\n",
       "      <th>id</th>\n",
       "      <th>first_name</th>\n",
       "      <th>last_name</th>\n",
       "      <th>phone_number</th>\n",
       "      <th>email</th>\n",
       "      <th>age</th>\n",
       "      <th>gender</th>\n",
       "      <th>state</th>\n",
       "      <th>street_address</th>\n",
       "      <th>postal_code</th>\n",
       "      <th>city</th>\n",
       "      <th>country</th>\n",
       "      <th>latitude</th>\n",
       "      <th>longitude</th>\n",
       "      <th>traffic_source</th>\n",
       "      <th>created_at</th>\n",
       "      <th>full_name</th>\n",
       "      <th>phone_number_length</th>\n",
       "    </tr>\n",
       "  </thead>\n",
       "  <tbody>\n",
       "    <tr>\n",
       "      <th>0</th>\n",
       "      <td>21304</td>\n",
       "      <td>Heidi</td>\n",
       "      <td>Hall</td>\n",
       "      <td></td>\n",
       "      <td>heidihall@example.net</td>\n",
       "      <td>70.0</td>\n",
       "      <td>F</td>\n",
       "      <td>Gyeonggi-do</td>\n",
       "      <td>9401 Howard Road Apt. 695</td>\n",
       "      <td>415-850</td>\n",
       "      <td>Gimpo City</td>\n",
       "      <td>South Korea</td>\n",
       "      <td>37.640589</td>\n",
       "      <td>126.566183</td>\n",
       "      <td>Search</td>\n",
       "      <td>2019-01-02 00:19:00 UTC</td>\n",
       "      <td>Heidi Hall</td>\n",
       "      <td>0</td>\n",
       "    </tr>\n",
       "    <tr>\n",
       "      <th>1</th>\n",
       "      <td>5012</td>\n",
       "      <td>Billy</td>\n",
       "      <td>Guerrero</td>\n",
       "      <td>1800341483</td>\n",
       "      <td>billyguerrero@example.net</td>\n",
       "      <td>33.0</td>\n",
       "      <td>M</td>\n",
       "      <td>Texas</td>\n",
       "      <td>533 Patricia Roads Apt. 472</td>\n",
       "      <td>79928</td>\n",
       "      <td>Horizon City</td>\n",
       "      <td>United States</td>\n",
       "      <td>31.642378</td>\n",
       "      <td>-106.141715</td>\n",
       "      <td>Search</td>\n",
       "      <td>2019-01-02 00:29:00 UTC</td>\n",
       "      <td>Billy Guerrero</td>\n",
       "      <td>10</td>\n",
       "    </tr>\n",
       "    <tr>\n",
       "      <th>2</th>\n",
       "      <td>27817</td>\n",
       "      <td>Antonio</td>\n",
       "      <td>Williams</td>\n",
       "      <td></td>\n",
       "      <td>antoniowilliams@example.net</td>\n",
       "      <td>20.0</td>\n",
       "      <td>M</td>\n",
       "      <td>Zhejiang</td>\n",
       "      <td>0381 Baker Stream Apt. 075</td>\n",
       "      <td>312599</td>\n",
       "      <td>Wuhan</td>\n",
       "      <td>China</td>\n",
       "      <td>29.504850</td>\n",
       "      <td>120.901029</td>\n",
       "      <td>Search</td>\n",
       "      <td>2019-01-02 00:35:00 UTC</td>\n",
       "      <td>Antonio Williams</td>\n",
       "      <td>0</td>\n",
       "    </tr>\n",
       "    <tr>\n",
       "      <th>3</th>\n",
       "      <td>14079</td>\n",
       "      <td>Ryan</td>\n",
       "      <td>Brown</td>\n",
       "      <td></td>\n",
       "      <td>ryanbrown@example.com</td>\n",
       "      <td>68.0</td>\n",
       "      <td>M</td>\n",
       "      <td>Bahia</td>\n",
       "      <td>277 Walker Mountains</td>\n",
       "      <td>45920-000</td>\n",
       "      <td>Nova Viçosa</td>\n",
       "      <td>Brasil</td>\n",
       "      <td>-17.900464</td>\n",
       "      <td>-39.716076</td>\n",
       "      <td>Search</td>\n",
       "      <td>2019-01-02 00:43:00 UTC</td>\n",
       "      <td>Ryan Brown</td>\n",
       "      <td>0</td>\n",
       "    </tr>\n",
       "    <tr>\n",
       "      <th>4</th>\n",
       "      <td>93946</td>\n",
       "      <td>Sabrina</td>\n",
       "      <td>Rodriguez</td>\n",
       "      <td>1800594461</td>\n",
       "      <td>sabrinarodriguez@example.net</td>\n",
       "      <td>39.0</td>\n",
       "      <td>F</td>\n",
       "      <td>Florida</td>\n",
       "      <td>06720 Smith Summit Suite 860</td>\n",
       "      <td>34711</td>\n",
       "      <td>Clermont</td>\n",
       "      <td>United States</td>\n",
       "      <td>28.525665</td>\n",
       "      <td>-81.756419</td>\n",
       "      <td>Search</td>\n",
       "      <td>2019-01-02 01:14:00 UTC</td>\n",
       "      <td>Sabrina Rodriguez</td>\n",
       "      <td>10</td>\n",
       "    </tr>\n",
       "  </tbody>\n",
       "</table>\n",
       "</div>"
      ],
      "text/plain": [
       "      id first_name  last_name phone_number                         email  \\\n",
       "0  21304      Heidi       Hall                      heidihall@example.net   \n",
       "1   5012      Billy   Guerrero   1800341483     billyguerrero@example.net   \n",
       "2  27817    Antonio   Williams                antoniowilliams@example.net   \n",
       "3  14079       Ryan      Brown                      ryanbrown@example.com   \n",
       "4  93946    Sabrina  Rodriguez   1800594461  sabrinarodriguez@example.net   \n",
       "\n",
       "    age gender        state                street_address postal_code  \\\n",
       "0  70.0      F  Gyeonggi-do     9401 Howard Road Apt. 695     415-850   \n",
       "1  33.0      M        Texas   533 Patricia Roads Apt. 472       79928   \n",
       "2  20.0      M     Zhejiang    0381 Baker Stream Apt. 075      312599   \n",
       "3  68.0      M        Bahia          277 Walker Mountains   45920-000   \n",
       "4  39.0      F      Florida  06720 Smith Summit Suite 860       34711   \n",
       "\n",
       "           city        country   latitude   longitude traffic_source  \\\n",
       "0    Gimpo City    South Korea  37.640589  126.566183         Search   \n",
       "1  Horizon City  United States  31.642378 -106.141715         Search   \n",
       "2         Wuhan          China  29.504850  120.901029         Search   \n",
       "3   Nova Viçosa         Brasil -17.900464  -39.716076         Search   \n",
       "4      Clermont  United States  28.525665  -81.756419         Search   \n",
       "\n",
       "                created_at          full_name  phone_number_length  \n",
       "0  2019-01-02 00:19:00 UTC         Heidi Hall                    0  \n",
       "1  2019-01-02 00:29:00 UTC     Billy Guerrero                   10  \n",
       "2  2019-01-02 00:35:00 UTC   Antonio Williams                    0  \n",
       "3  2019-01-02 00:43:00 UTC         Ryan Brown                    0  \n",
       "4  2019-01-02 01:14:00 UTC  Sabrina Rodriguez                   10  "
      ]
     },
     "execution_count": 486,
     "metadata": {},
     "output_type": "execute_result"
    }
   ],
   "source": [
    "df_users_clean.head()"
   ]
  },
  {
   "cell_type": "markdown",
   "id": "b4a2b39a",
   "metadata": {},
   "source": [
    "First, we split the email column using the @ character. The function to do this is `.str.split(expand=True)`. Inside the bracket, you'd say what character you're splitting by. The default is space"
   ]
  },
  {
   "cell_type": "code",
   "execution_count": 487,
   "id": "d75748e3",
   "metadata": {},
   "outputs": [
    {
     "data": {
      "text/plain": [
       "array(['example.net', 'example.com', 'example.org', 'examplec.om', nan],\n",
       "      dtype=object)"
      ]
     },
     "execution_count": 487,
     "metadata": {},
     "output_type": "execute_result"
    }
   ],
   "source": [
    "df_users_clean['email'].str.split('@', expand=True)[1].unique()"
   ]
  },
  {
   "cell_type": "markdown",
   "id": "723a0dc5",
   "metadata": {},
   "source": [
    "We will replace examplec.om with example.com using the `str.replace()` function"
   ]
  },
  {
   "cell_type": "code",
   "execution_count": 488,
   "id": "adb72d83",
   "metadata": {},
   "outputs": [],
   "source": [
    "df_users_clean['email'] = df_users_clean['email'].str.replace('examplec.om', 'example.com', regex=False)"
   ]
  },
  {
   "cell_type": "code",
   "execution_count": 489,
   "id": "0c806716",
   "metadata": {},
   "outputs": [
    {
     "data": {
      "text/plain": [
       "array(['example.net', 'example.com', 'example.org', nan], dtype=object)"
      ]
     },
     "execution_count": 489,
     "metadata": {},
     "output_type": "execute_result"
    }
   ],
   "source": [
    "df_users_clean['email'].str.split('@', expand=True)[1].unique()"
   ]
  },
  {
   "cell_type": "code",
   "execution_count": 490,
   "id": "799fadc7",
   "metadata": {},
   "outputs": [
    {
     "data": {
      "text/plain": [
       "id                      object\n",
       "first_name              object\n",
       "last_name               object\n",
       "phone_number            object\n",
       "email                   object\n",
       "age                    float64\n",
       "gender                  object\n",
       "state                   object\n",
       "street_address          object\n",
       "postal_code             object\n",
       "city                    object\n",
       "country                 object\n",
       "latitude               float64\n",
       "longitude              float64\n",
       "traffic_source          object\n",
       "created_at              object\n",
       "full_name               object\n",
       "phone_number_length      int64\n",
       "dtype: object"
      ]
     },
     "execution_count": 490,
     "metadata": {},
     "output_type": "execute_result"
    }
   ],
   "source": [
    "df_users_clean.dtypes"
   ]
  },
  {
   "cell_type": "markdown",
   "id": "6d1d23f0",
   "metadata": {},
   "source": [
    "To convert to lower case, the function to use is `.str.lower()`"
   ]
  },
  {
   "cell_type": "code",
   "execution_count": 491,
   "id": "f1f0baa4",
   "metadata": {},
   "outputs": [],
   "source": [
    "df_users_clean['email'] = df_users_clean['email'].str.lower()"
   ]
  },
  {
   "cell_type": "markdown",
   "id": "a56c0b76",
   "metadata": {},
   "source": [
    "6. Fill up blank ages with the mean"
   ]
  },
  {
   "cell_type": "markdown",
   "id": "5921ffba",
   "metadata": {},
   "source": [
    "For numeric columns, summary statistics such as describe, sum, mean, median, count, quantiles etc."
   ]
  },
  {
   "cell_type": "code",
   "execution_count": 492,
   "id": "2e2c4050",
   "metadata": {},
   "outputs": [
    {
     "data": {
      "text/html": [
       "<div>\n",
       "<style scoped>\n",
       "    .dataframe tbody tr th:only-of-type {\n",
       "        vertical-align: middle;\n",
       "    }\n",
       "\n",
       "    .dataframe tbody tr th {\n",
       "        vertical-align: top;\n",
       "    }\n",
       "\n",
       "    .dataframe thead th {\n",
       "        text-align: right;\n",
       "    }\n",
       "</style>\n",
       "<table border=\"1\" class=\"dataframe\">\n",
       "  <thead>\n",
       "    <tr style=\"text-align: right;\">\n",
       "      <th></th>\n",
       "      <th>age</th>\n",
       "      <th>latitude</th>\n",
       "      <th>longitude</th>\n",
       "      <th>phone_number_length</th>\n",
       "    </tr>\n",
       "  </thead>\n",
       "  <tbody>\n",
       "    <tr>\n",
       "      <th>count</th>\n",
       "      <td>99998.000000</td>\n",
       "      <td>99998.000000</td>\n",
       "      <td>99998.000000</td>\n",
       "      <td>100000.000000</td>\n",
       "    </tr>\n",
       "    <tr>\n",
       "      <th>mean</th>\n",
       "      <td>41.006170</td>\n",
       "      <td>28.305884</td>\n",
       "      <td>24.344178</td>\n",
       "      <td>2.266840</td>\n",
       "    </tr>\n",
       "    <tr>\n",
       "      <th>std</th>\n",
       "      <td>17.033479</td>\n",
       "      <td>22.052213</td>\n",
       "      <td>89.964565</td>\n",
       "      <td>4.186826</td>\n",
       "    </tr>\n",
       "    <tr>\n",
       "      <th>min</th>\n",
       "      <td>12.000000</td>\n",
       "      <td>-43.160756</td>\n",
       "      <td>-158.164931</td>\n",
       "      <td>0.000000</td>\n",
       "    </tr>\n",
       "    <tr>\n",
       "      <th>25%</th>\n",
       "      <td>26.000000</td>\n",
       "      <td>26.110473</td>\n",
       "      <td>-51.049500</td>\n",
       "      <td>0.000000</td>\n",
       "    </tr>\n",
       "    <tr>\n",
       "      <th>50%</th>\n",
       "      <td>41.000000</td>\n",
       "      <td>35.247482</td>\n",
       "      <td>4.411841</td>\n",
       "      <td>0.000000</td>\n",
       "    </tr>\n",
       "    <tr>\n",
       "      <th>75%</th>\n",
       "      <td>56.000000</td>\n",
       "      <td>40.725404</td>\n",
       "      <td>116.345098</td>\n",
       "      <td>0.000000</td>\n",
       "    </tr>\n",
       "    <tr>\n",
       "      <th>max</th>\n",
       "      <td>70.000000</td>\n",
       "      <td>64.865194</td>\n",
       "      <td>153.560238</td>\n",
       "      <td>10.000000</td>\n",
       "    </tr>\n",
       "  </tbody>\n",
       "</table>\n",
       "</div>"
      ],
      "text/plain": [
       "                age      latitude     longitude  phone_number_length\n",
       "count  99998.000000  99998.000000  99998.000000        100000.000000\n",
       "mean      41.006170     28.305884     24.344178             2.266840\n",
       "std       17.033479     22.052213     89.964565             4.186826\n",
       "min       12.000000    -43.160756   -158.164931             0.000000\n",
       "25%       26.000000     26.110473    -51.049500             0.000000\n",
       "50%       41.000000     35.247482      4.411841             0.000000\n",
       "75%       56.000000     40.725404    116.345098             0.000000\n",
       "max       70.000000     64.865194    153.560238            10.000000"
      ]
     },
     "execution_count": 492,
     "metadata": {},
     "output_type": "execute_result"
    }
   ],
   "source": [
    "# summary statistics for all numeric columns\n",
    "df_users_clean.describe()"
   ]
  },
  {
   "cell_type": "code",
   "execution_count": 493,
   "id": "7f4b165c",
   "metadata": {},
   "outputs": [
    {
     "data": {
      "text/plain": [
       "count    99998.000000\n",
       "mean        41.006170\n",
       "std         17.033479\n",
       "min         12.000000\n",
       "25%         26.000000\n",
       "50%         41.000000\n",
       "75%         56.000000\n",
       "max         70.000000\n",
       "Name: age, dtype: float64"
      ]
     },
     "execution_count": 493,
     "metadata": {},
     "output_type": "execute_result"
    }
   ],
   "source": [
    "# summary statistics for column specified\n",
    "df_users_clean['age'].describe()"
   ]
  },
  {
   "cell_type": "markdown",
   "id": "c34b7b65",
   "metadata": {},
   "source": [
    "# calculate the mean of all numeric columns in the dataframe\n",
    "df_users_clean.mean()"
   ]
  },
  {
   "cell_type": "code",
   "execution_count": 494,
   "id": "d672bbda",
   "metadata": {},
   "outputs": [
    {
     "data": {
      "text/plain": [
       "41.00617012340247"
      ]
     },
     "execution_count": 494,
     "metadata": {},
     "output_type": "execute_result"
    }
   ],
   "source": [
    "# calculates the mean of the specified column in the dataframe\n",
    "df_users_clean['age'].mean()"
   ]
  },
  {
   "cell_type": "markdown",
   "id": "2b32b9e5",
   "metadata": {},
   "source": [
    "Similar functions like `.median()`, `.sum()`, `.count()` etc"
   ]
  },
  {
   "cell_type": "markdown",
   "id": "ea6cc8b4",
   "metadata": {},
   "source": [
    "Store the mean age in a variable"
   ]
  },
  {
   "cell_type": "code",
   "execution_count": 495,
   "id": "c5f9eb43",
   "metadata": {},
   "outputs": [],
   "source": [
    "mean_age = df_users_clean['age'].mean()"
   ]
  },
  {
   "cell_type": "code",
   "execution_count": 496,
   "id": "83b585c2",
   "metadata": {},
   "outputs": [
    {
     "data": {
      "text/plain": [
       "41.00617012340247"
      ]
     },
     "execution_count": 496,
     "metadata": {},
     "output_type": "execute_result"
    }
   ],
   "source": [
    "mean_age"
   ]
  },
  {
   "cell_type": "markdown",
   "id": "c451002c",
   "metadata": {},
   "source": [
    "To fill null values, the function to use is `.fillna()`. In the bracket, you'll specific what you want to fill the blank with. There are two ways you use this function\n",
    "1."
   ]
  },
  {
   "cell_type": "code",
   "execution_count": 497,
   "id": "02bfb40c",
   "metadata": {},
   "outputs": [],
   "source": [
    "df_users_clean['age_filled'] = df_users_clean['age'].fillna(mean_age)"
   ]
  },
  {
   "cell_type": "markdown",
   "id": "4fa7befe",
   "metadata": {},
   "source": [
    "If inplace is true, it will perform the action directly on the column, if it's false, it will just give you the result"
   ]
  },
  {
   "cell_type": "code",
   "execution_count": 498,
   "id": "4d4e7bb9",
   "metadata": {},
   "outputs": [],
   "source": [
    "df_users_clean['age'].fillna(mean_age, inplace=True) # inplace can either be true or false"
   ]
  },
  {
   "cell_type": "markdown",
   "id": "de130c0d",
   "metadata": {},
   "source": [
    "7. Join latitude and longitude together with a comma separating them"
   ]
  },
  {
   "cell_type": "code",
   "execution_count": 499,
   "id": "8a5d909d",
   "metadata": {},
   "outputs": [
    {
     "data": {
      "text/plain": [
       "id                      object\n",
       "first_name              object\n",
       "last_name               object\n",
       "phone_number            object\n",
       "email                   object\n",
       "age                    float64\n",
       "gender                  object\n",
       "state                   object\n",
       "street_address          object\n",
       "postal_code             object\n",
       "city                    object\n",
       "country                 object\n",
       "latitude               float64\n",
       "longitude              float64\n",
       "traffic_source          object\n",
       "created_at              object\n",
       "full_name               object\n",
       "phone_number_length      int64\n",
       "age_filled             float64\n",
       "dtype: object"
      ]
     },
     "execution_count": 499,
     "metadata": {},
     "output_type": "execute_result"
    }
   ],
   "source": [
    "# check data types\n",
    "df_users_clean.dtypes"
   ]
  },
  {
   "cell_type": "code",
   "execution_count": 500,
   "id": "c90e8751",
   "metadata": {},
   "outputs": [],
   "source": [
    "# convert latitude and longitude columns to strings\n",
    "df_users_clean['latitude'] = df_users_clean['latitude'].astype(str)\n",
    "df_users_clean['longitude'] = df_users_clean['longitude'].astype(str)"
   ]
  },
  {
   "cell_type": "code",
   "execution_count": 501,
   "id": "d600387c",
   "metadata": {},
   "outputs": [],
   "source": [
    "# concat latitude and longitude together\n",
    "df_users_clean['geo_location'] = df_users_clean['latitude'] + \",\" + df_users_clean['longitude']"
   ]
  },
  {
   "cell_type": "markdown",
   "id": "f39f76d6",
   "metadata": {},
   "source": [
    "To remove columns from you dataframe, the function to use is `.drop()`. There are three important keywords that you need in the bracket.\n",
    "1. What you want to drop, either as a string, or a list\n",
    "2. axis: Drop a row or a column. If it's a column, axis=1, if it's a row, axis=0\n",
    "3. The inplace keyword"
   ]
  },
  {
   "cell_type": "code",
   "execution_count": 502,
   "id": "41364b77",
   "metadata": {},
   "outputs": [],
   "source": [
    "# drop the specified columns\n",
    "df_users_clean.drop(['first_name', 'last_name', 'latitude', 'longitude', 'phone_number_length', 'age_filled'],\n",
    "                    axis = 1,\n",
    "                    inplace = True\n",
    "                   )"
   ]
  },
  {
   "cell_type": "code",
   "execution_count": 503,
   "id": "bcf02f8c",
   "metadata": {},
   "outputs": [
    {
     "data": {
      "text/plain": [
       "Index(['id', 'phone_number', 'email', 'age', 'gender', 'state',\n",
       "       'street_address', 'postal_code', 'city', 'country', 'traffic_source',\n",
       "       'created_at', 'full_name', 'geo_location'],\n",
       "      dtype='object')"
      ]
     },
     "execution_count": 503,
     "metadata": {},
     "output_type": "execute_result"
    }
   ],
   "source": [
    "# test that the columns have been dropped\n",
    "df_users_clean.columns"
   ]
  },
  {
   "cell_type": "markdown",
   "id": "c7529761",
   "metadata": {},
   "source": [
    "8. Remove UTC from the `created_at` column"
   ]
  },
  {
   "cell_type": "code",
   "execution_count": 504,
   "id": "49143e79",
   "metadata": {},
   "outputs": [
    {
     "data": {
      "text/plain": [
       "0    2019-01-02 00:19:00 UTC\n",
       "1    2019-01-02 00:29:00 UTC\n",
       "2    2019-01-02 00:35:00 UTC\n",
       "3    2019-01-02 00:43:00 UTC\n",
       "4    2019-01-02 01:14:00 UTC\n",
       "Name: created_at, dtype: object"
      ]
     },
     "execution_count": 504,
     "metadata": {},
     "output_type": "execute_result"
    }
   ],
   "source": [
    "# inspect created_at column\n",
    "df_users_clean['created_at'].head()"
   ]
  },
  {
   "cell_type": "markdown",
   "id": "1d3391e1",
   "metadata": {},
   "source": [
    "First method: Replace UTC with an empty string"
   ]
  },
  {
   "cell_type": "code",
   "execution_count": 505,
   "id": "2bb3f781",
   "metadata": {},
   "outputs": [],
   "source": [
    "# str.replace function\n",
    "df_users_clean['created_at_first_method'] = df_users_clean['created_at'].str.replace(' UTC', '', regex=False)"
   ]
  },
  {
   "cell_type": "code",
   "execution_count": 506,
   "id": "6f550013",
   "metadata": {},
   "outputs": [
    {
     "data": {
      "text/plain": [
       "0    2019-01-02 00:19:00\n",
       "1    2019-01-02 00:29:00\n",
       "2    2019-01-02 00:35:00\n",
       "3    2019-01-02 00:43:00\n",
       "4    2019-01-02 01:14:00\n",
       "Name: created_at_first_method, dtype: object"
      ]
     },
     "execution_count": 506,
     "metadata": {},
     "output_type": "execute_result"
    }
   ],
   "source": [
    "# inspect created_at column\n",
    "df_users_clean['created_at_first_method'].head()"
   ]
  },
  {
   "cell_type": "markdown",
   "id": "46844491",
   "metadata": {},
   "source": [
    "Confirm the new data type"
   ]
  },
  {
   "cell_type": "code",
   "execution_count": 507,
   "id": "e937ba4f",
   "metadata": {},
   "outputs": [
    {
     "data": {
      "text/plain": [
       "dtype('O')"
      ]
     },
     "execution_count": 507,
     "metadata": {},
     "output_type": "execute_result"
    }
   ],
   "source": [
    "# data type\n",
    "df_users_clean['created_at_first_method'].dtypes"
   ]
  },
  {
   "cell_type": "markdown",
   "id": "89fd22fc",
   "metadata": {},
   "source": [
    "Convert to datetime. To do this, the function to use is `pandas.to_datetime()`. Inside the bracket:\n",
    "1. What you want to convert"
   ]
  },
  {
   "cell_type": "code",
   "execution_count": 508,
   "id": "5f8f394f",
   "metadata": {},
   "outputs": [],
   "source": [
    "# convert to datetime\n",
    "df_users_clean['created_at_first_method'] = pd.to_datetime(df_users_clean['created_at_first_method'])"
   ]
  },
  {
   "cell_type": "code",
   "execution_count": 509,
   "id": "07ad2e09",
   "metadata": {},
   "outputs": [
    {
     "data": {
      "text/plain": [
       "dtype('<M8[ns]')"
      ]
     },
     "execution_count": 509,
     "metadata": {},
     "output_type": "execute_result"
    }
   ],
   "source": [
    "# data type\n",
    "df_users_clean['created_at_first_method'].dtypes"
   ]
  },
  {
   "cell_type": "code",
   "execution_count": 510,
   "id": "605d238e",
   "metadata": {},
   "outputs": [
    {
     "data": {
      "text/plain": [
       "id                                 object\n",
       "phone_number                       object\n",
       "email                              object\n",
       "age                               float64\n",
       "gender                             object\n",
       "state                              object\n",
       "street_address                     object\n",
       "postal_code                        object\n",
       "city                               object\n",
       "country                            object\n",
       "traffic_source                     object\n",
       "created_at                         object\n",
       "full_name                          object\n",
       "geo_location                       object\n",
       "created_at_first_method    datetime64[ns]\n",
       "dtype: object"
      ]
     },
     "execution_count": 510,
     "metadata": {},
     "output_type": "execute_result"
    }
   ],
   "source": [
    "df_users_clean.dtypes"
   ]
  },
  {
   "cell_type": "markdown",
   "id": "d530d2cd",
   "metadata": {},
   "source": [
    "Second method: Spliting the created_at column"
   ]
  },
  {
   "cell_type": "code",
   "execution_count": 511,
   "id": "4de47569",
   "metadata": {},
   "outputs": [],
   "source": [
    "split_time_columns = df_users_clean['created_at'].str.split(' ',expand=True)"
   ]
  },
  {
   "cell_type": "code",
   "execution_count": 512,
   "id": "b26a7e64",
   "metadata": {},
   "outputs": [],
   "source": [
    "df_users_clean['created_at_second_method'] = split_time_columns[0] + \" \" + split_time_columns[1]"
   ]
  },
  {
   "cell_type": "code",
   "execution_count": 513,
   "id": "ad581aa5",
   "metadata": {},
   "outputs": [
    {
     "data": {
      "text/plain": [
       "dtype('O')"
      ]
     },
     "execution_count": 513,
     "metadata": {},
     "output_type": "execute_result"
    }
   ],
   "source": [
    "df_users_clean['created_at_second_method'].dtypes"
   ]
  },
  {
   "cell_type": "code",
   "execution_count": 514,
   "id": "0a559de3",
   "metadata": {},
   "outputs": [],
   "source": [
    "# convert to datetime\n",
    "df_users_clean['created_at_second_method'] = pd.to_datetime(df_users_clean['created_at_second_method'])"
   ]
  },
  {
   "cell_type": "code",
   "execution_count": 515,
   "id": "89f405bd",
   "metadata": {},
   "outputs": [
    {
     "data": {
      "text/plain": [
       "dtype('<M8[ns]')"
      ]
     },
     "execution_count": 515,
     "metadata": {},
     "output_type": "execute_result"
    }
   ],
   "source": [
    "df_users_clean['created_at_second_method'].dtypes"
   ]
  },
  {
   "cell_type": "markdown",
   "id": "9cc64fa6",
   "metadata": {},
   "source": [
    "9. In the country column, we want to change:\n",
    "* Brazil to Brasil\n",
    "* Deutschland to Germany\n",
    "* Espana to Spain"
   ]
  },
  {
   "cell_type": "code",
   "execution_count": 516,
   "id": "3b8366ec",
   "metadata": {},
   "outputs": [
    {
     "data": {
      "text/plain": [
       "array(['South Korea', 'United States', 'China', 'Brasil', 'Australia',\n",
       "       'Spain', 'France', 'United Kingdom', 'Germany', 'Belgium', 'Japan',\n",
       "       'Poland', 'Colombia', 'España', 'Austria', 'Deutschland', 'Brazil'],\n",
       "      dtype=object)"
      ]
     },
     "execution_count": 516,
     "metadata": {},
     "output_type": "execute_result"
    }
   ],
   "source": [
    "# list out the unique countries\n",
    "df_users_clean['country'].unique()"
   ]
  },
  {
   "cell_type": "code",
   "execution_count": 517,
   "id": "86dd485e",
   "metadata": {},
   "outputs": [],
   "source": [
    "# replace all these country names\n",
    "# first method\n",
    "df_users_clean['country_first_method'] = df_users_clean['country'].replace('Brazil','Brasil').replace('Deutschland','Germany').replace('España','Spain')"
   ]
  },
  {
   "cell_type": "code",
   "execution_count": 518,
   "id": "63d2d124",
   "metadata": {},
   "outputs": [],
   "source": [
    "# create a dictionary of columns to change\n",
    "columns_to_change = {'Brazil':'Brasil', 'Deutschland':'Germany', 'España':'Spain'}"
   ]
  },
  {
   "cell_type": "code",
   "execution_count": 519,
   "id": "b2e73fe3",
   "metadata": {},
   "outputs": [],
   "source": [
    "# second method\n",
    "df_users_clean['country_second_method'] = df_users_clean['country'].replace(columns_to_change)"
   ]
  },
  {
   "cell_type": "markdown",
   "id": "9fdb1150",
   "metadata": {},
   "source": [
    "# Dealing with duplicates"
   ]
  },
  {
   "cell_type": "markdown",
   "id": "aa101ff4",
   "metadata": {},
   "source": [
    "1. Are there duplicates? `.duplicated()`\n",
    "2. How many duplicates are there? `.duplicated().sum()`\n",
    "3. How to remove these duplicates? `.drop_duplicates(inplace=True/False)`\n",
    "* If you don't specific a column, or list of columns, it will automatically check for duplictes in the entrie record and drop them\n",
    "* To drop duplicates in a specific column, specify that column/list of columns in a square bracket within the round bracket\n",
    "* The keep keyword is important. It can either be 'first'(keeps the first occurence), 'last'(keeps the last occurence), False (removes all records that were duplicated)\n",
    "4. What are these duplicates? This involves querying or filtering the data to see the duplicates"
   ]
  },
  {
   "cell_type": "markdown",
   "id": "99e23450",
   "metadata": {},
   "source": [
    "**For illustration purposes**, we will remove duplicates in the email column. However, before removing duplicates, always double check to ensure that these are indeed duplicated records."
   ]
  },
  {
   "cell_type": "code",
   "execution_count": 528,
   "id": "c34e7a9f",
   "metadata": {},
   "outputs": [],
   "source": [
    "# masking\n",
    "duplicated = df_users_clean[df_users_clean.duplicated(['email'])]"
   ]
  },
  {
   "cell_type": "code",
   "execution_count": 520,
   "id": "5b48e506",
   "metadata": {},
   "outputs": [
    {
     "data": {
      "text/plain": [
       "16171"
      ]
     },
     "execution_count": 520,
     "metadata": {},
     "output_type": "execute_result"
    }
   ],
   "source": [
    "df_users_clean.duplicated(['email']).sum()"
   ]
  },
  {
   "cell_type": "code",
   "execution_count": 521,
   "id": "21c2dab4",
   "metadata": {},
   "outputs": [
    {
     "data": {
      "text/plain": [
       "16170"
      ]
     },
     "execution_count": 521,
     "metadata": {},
     "output_type": "execute_result"
    }
   ],
   "source": [
    "df_users.duplicated(['email']).sum()"
   ]
  },
  {
   "cell_type": "code",
   "execution_count": 522,
   "id": "1aef27aa",
   "metadata": {},
   "outputs": [],
   "source": [
    "# drop duplicate records in the dataframe\n",
    "first_email_occurence = df_users_clean.drop_duplicates(['email'], keep='first')\n",
    "last_email_occurence = df_users_clean.drop_duplicates(['email'], keep='last')\n",
    "discard_all_duplicated_records = df_users_clean.drop_duplicates(['email'], keep=False)"
   ]
  },
  {
   "cell_type": "code",
   "execution_count": 523,
   "id": "f45dabd2",
   "metadata": {},
   "outputs": [
    {
     "data": {
      "text/plain": [
       "0"
      ]
     },
     "execution_count": 523,
     "metadata": {},
     "output_type": "execute_result"
    }
   ],
   "source": [
    "first_email_occurence.duplicated(['email']).sum()"
   ]
  },
  {
   "cell_type": "code",
   "execution_count": 524,
   "id": "0881c77d",
   "metadata": {},
   "outputs": [
    {
     "data": {
      "text/plain": [
       "0"
      ]
     },
     "execution_count": 524,
     "metadata": {},
     "output_type": "execute_result"
    }
   ],
   "source": [
    "last_email_occurence.duplicated(['email']).sum()"
   ]
  },
  {
   "cell_type": "code",
   "execution_count": 525,
   "id": "ed56a888",
   "metadata": {},
   "outputs": [
    {
     "data": {
      "text/plain": [
       "0"
      ]
     },
     "execution_count": 525,
     "metadata": {},
     "output_type": "execute_result"
    }
   ],
   "source": [
    "discard_all_duplicated_records.duplicated(['email']).sum()"
   ]
  },
  {
   "cell_type": "markdown",
   "id": "e351b64c",
   "metadata": {},
   "source": [
    "To sort a dataframe, the function to use is `.sort_values()`. In the bracket, you tell it two things\n",
    "1. What you want to sort by\n",
    "2. How. Ascending(default) or Descending"
   ]
  },
  {
   "cell_type": "code",
   "execution_count": 533,
   "id": "d011f86e",
   "metadata": {},
   "outputs": [
    {
     "data": {
      "text/html": [
       "<div>\n",
       "<style scoped>\n",
       "    .dataframe tbody tr th:only-of-type {\n",
       "        vertical-align: middle;\n",
       "    }\n",
       "\n",
       "    .dataframe tbody tr th {\n",
       "        vertical-align: top;\n",
       "    }\n",
       "\n",
       "    .dataframe thead th {\n",
       "        text-align: right;\n",
       "    }\n",
       "</style>\n",
       "<table border=\"1\" class=\"dataframe\">\n",
       "  <thead>\n",
       "    <tr style=\"text-align: right;\">\n",
       "      <th></th>\n",
       "      <th>id</th>\n",
       "      <th>phone_number</th>\n",
       "      <th>email</th>\n",
       "      <th>age</th>\n",
       "      <th>gender</th>\n",
       "      <th>state</th>\n",
       "      <th>street_address</th>\n",
       "      <th>postal_code</th>\n",
       "      <th>city</th>\n",
       "      <th>country</th>\n",
       "      <th>traffic_source</th>\n",
       "      <th>created_at</th>\n",
       "      <th>full_name</th>\n",
       "      <th>geo_location</th>\n",
       "      <th>created_at_first_method</th>\n",
       "      <th>created_at_second_method</th>\n",
       "      <th>country_first_method</th>\n",
       "      <th>country_second_method</th>\n",
       "    </tr>\n",
       "  </thead>\n",
       "  <tbody>\n",
       "    <tr>\n",
       "      <th>17910</th>\n",
       "      <td>6355</td>\n",
       "      <td></td>\n",
       "      <td>zacharywilson@example.net</td>\n",
       "      <td>63.0</td>\n",
       "      <td>M</td>\n",
       "      <td>Mato Grosso do Sul</td>\n",
       "      <td>2647 Pacheco Road</td>\n",
       "      <td>79200-000</td>\n",
       "      <td>Aquidauana</td>\n",
       "      <td>Brasil</td>\n",
       "      <td>Search</td>\n",
       "      <td>2019-10-17 16:59:00 UTC</td>\n",
       "      <td>Zachary Wilson</td>\n",
       "      <td>-19.75549055,-55.86324783</td>\n",
       "      <td>2019-10-17 16:59:00.000000</td>\n",
       "      <td>2019-10-17 16:59:00.000000</td>\n",
       "      <td>Brasil</td>\n",
       "      <td>Brasil</td>\n",
       "    </tr>\n",
       "    <tr>\n",
       "      <th>40255</th>\n",
       "      <td>89452</td>\n",
       "      <td></td>\n",
       "      <td>zacharywilson@example.net</td>\n",
       "      <td>36.0</td>\n",
       "      <td>M</td>\n",
       "      <td>England</td>\n",
       "      <td>758 Danielle Forge Suite 807</td>\n",
       "      <td>LA14</td>\n",
       "      <td>Barrow-in-Furness</td>\n",
       "      <td>United Kingdom</td>\n",
       "      <td>Search</td>\n",
       "      <td>2020-10-13 17:01:00 UTC</td>\n",
       "      <td>Zachary Wilson</td>\n",
       "      <td>54.12374037,-3.230345256</td>\n",
       "      <td>2020-10-13 17:01:00.000000</td>\n",
       "      <td>2020-10-13 17:01:00.000000</td>\n",
       "      <td>United Kingdom</td>\n",
       "      <td>United Kingdom</td>\n",
       "    </tr>\n",
       "    <tr>\n",
       "      <th>48533</th>\n",
       "      <td>21973</td>\n",
       "      <td></td>\n",
       "      <td>zacharywilson@example.net</td>\n",
       "      <td>69.0</td>\n",
       "      <td>M</td>\n",
       "      <td>England</td>\n",
       "      <td>852 Scott Square Apt. 795</td>\n",
       "      <td>BH12</td>\n",
       "      <td>Poole</td>\n",
       "      <td>United Kingdom</td>\n",
       "      <td>Search</td>\n",
       "      <td>2021-02-25 01:41:00 UTC</td>\n",
       "      <td>Zachary Wilson</td>\n",
       "      <td>50.7398895,-1.926010443</td>\n",
       "      <td>2021-02-25 01:41:00.000000</td>\n",
       "      <td>2021-02-25 01:41:00.000000</td>\n",
       "      <td>United Kingdom</td>\n",
       "      <td>United Kingdom</td>\n",
       "    </tr>\n",
       "    <tr>\n",
       "      <th>65342</th>\n",
       "      <td>51256</td>\n",
       "      <td></td>\n",
       "      <td>zacharywhite@example.com</td>\n",
       "      <td>57.0</td>\n",
       "      <td>M</td>\n",
       "      <td>Nagano</td>\n",
       "      <td>49654 Green Port Suite 860</td>\n",
       "      <td>393-0000</td>\n",
       "      <td>Shimosuwa town</td>\n",
       "      <td>Japan</td>\n",
       "      <td>Search</td>\n",
       "      <td>2021-11-23 10:29:00 UTC</td>\n",
       "      <td>Zachary White</td>\n",
       "      <td>36.11057289,138.1125061</td>\n",
       "      <td>2021-11-23 10:29:00.000000</td>\n",
       "      <td>2021-11-23 10:29:00.000000</td>\n",
       "      <td>Japan</td>\n",
       "      <td>Japan</td>\n",
       "    </tr>\n",
       "    <tr>\n",
       "      <th>81908</th>\n",
       "      <td>3694</td>\n",
       "      <td></td>\n",
       "      <td>zacharywhite@example.com</td>\n",
       "      <td>46.0</td>\n",
       "      <td>M</td>\n",
       "      <td>Wales</td>\n",
       "      <td>722 Rebecca Trace</td>\n",
       "      <td>LL18</td>\n",
       "      <td>Rhyl</td>\n",
       "      <td>United Kingdom</td>\n",
       "      <td>Email</td>\n",
       "      <td>2022-08-19 17:11:00 UTC</td>\n",
       "      <td>Zachary White</td>\n",
       "      <td>53.2964742,-3.43619343</td>\n",
       "      <td>2022-08-19 17:11:00.000000</td>\n",
       "      <td>2022-08-19 17:11:00.000000</td>\n",
       "      <td>United Kingdom</td>\n",
       "      <td>United Kingdom</td>\n",
       "    </tr>\n",
       "    <tr>\n",
       "      <th>...</th>\n",
       "      <td>...</td>\n",
       "      <td>...</td>\n",
       "      <td>...</td>\n",
       "      <td>...</td>\n",
       "      <td>...</td>\n",
       "      <td>...</td>\n",
       "      <td>...</td>\n",
       "      <td>...</td>\n",
       "      <td>...</td>\n",
       "      <td>...</td>\n",
       "      <td>...</td>\n",
       "      <td>...</td>\n",
       "      <td>...</td>\n",
       "      <td>...</td>\n",
       "      <td>...</td>\n",
       "      <td>...</td>\n",
       "      <td>...</td>\n",
       "      <td>...</td>\n",
       "    </tr>\n",
       "    <tr>\n",
       "      <th>46502</th>\n",
       "      <td>30827</td>\n",
       "      <td>1800794763</td>\n",
       "      <td>aaronbrown@example.net</td>\n",
       "      <td>37.0</td>\n",
       "      <td>M</td>\n",
       "      <td>California</td>\n",
       "      <td>839 Jacqueline Motorway</td>\n",
       "      <td>94565</td>\n",
       "      <td>Pittsburg</td>\n",
       "      <td>United States</td>\n",
       "      <td>Search</td>\n",
       "      <td>2021-01-23 04:14:00 UTC</td>\n",
       "      <td>Aaron Brown</td>\n",
       "      <td>38.01139832,-121.9111236</td>\n",
       "      <td>2021-01-23 04:14:00.000000</td>\n",
       "      <td>2021-01-23 04:14:00.000000</td>\n",
       "      <td>United States</td>\n",
       "      <td>United States</td>\n",
       "    </tr>\n",
       "    <tr>\n",
       "      <th>16913</th>\n",
       "      <td>43837</td>\n",
       "      <td></td>\n",
       "      <td>aaronbrown@example.net</td>\n",
       "      <td>57.0</td>\n",
       "      <td>M</td>\n",
       "      <td>Chongqing</td>\n",
       "      <td>302 Bentley Skyway Apt. 818</td>\n",
       "      <td>401320</td>\n",
       "      <td>Huainan</td>\n",
       "      <td>China</td>\n",
       "      <td>Email</td>\n",
       "      <td>2019-10-02 09:10:00 UTC</td>\n",
       "      <td>Aaron Brown</td>\n",
       "      <td>29.39418141,106.5309096</td>\n",
       "      <td>2019-10-02 09:10:00.000000</td>\n",
       "      <td>2019-10-02 09:10:00.000000</td>\n",
       "      <td>China</td>\n",
       "      <td>China</td>\n",
       "    </tr>\n",
       "    <tr>\n",
       "      <th>82877</th>\n",
       "      <td>38846</td>\n",
       "      <td></td>\n",
       "      <td>aaronbishop@example.net</td>\n",
       "      <td>63.0</td>\n",
       "      <td>M</td>\n",
       "      <td>Gyeonggi-do</td>\n",
       "      <td>603 Holmes Rest Suite 538</td>\n",
       "      <td>427-060</td>\n",
       "      <td>Gwacheon City</td>\n",
       "      <td>South Korea</td>\n",
       "      <td>Search</td>\n",
       "      <td>2022-09-04 12:01:00 UTC</td>\n",
       "      <td>Aaron Bishop</td>\n",
       "      <td>37.45178501,126.9979733</td>\n",
       "      <td>2022-09-04 12:01:00.000000</td>\n",
       "      <td>2022-09-04 12:01:00.000000</td>\n",
       "      <td>South Korea</td>\n",
       "      <td>South Korea</td>\n",
       "    </tr>\n",
       "    <tr>\n",
       "      <th>99332</th>\n",
       "      <td>34467</td>\n",
       "      <td></td>\n",
       "      <td>aaronbarnett@example.net</td>\n",
       "      <td>32.0</td>\n",
       "      <td>M</td>\n",
       "      <td>Santa Catarina</td>\n",
       "      <td>12160 Ryan Cape Apt. 002</td>\n",
       "      <td>88240-000</td>\n",
       "      <td>São João Batista</td>\n",
       "      <td>Brasil</td>\n",
       "      <td>Search</td>\n",
       "      <td>2023-04-25 12:29:58.259158 UTC</td>\n",
       "      <td>Aaron Barnett</td>\n",
       "      <td>-27.33387535,-48.8658571</td>\n",
       "      <td>2023-04-25 12:29:58.259158</td>\n",
       "      <td>2023-04-25 12:29:58.259158</td>\n",
       "      <td>Brasil</td>\n",
       "      <td>Brasil</td>\n",
       "    </tr>\n",
       "    <tr>\n",
       "      <th>83704</th>\n",
       "      <td>98330</td>\n",
       "      <td></td>\n",
       "      <td>aaronbailey@example.com</td>\n",
       "      <td>28.0</td>\n",
       "      <td>M</td>\n",
       "      <td>Zhejiang</td>\n",
       "      <td>535 Timothy Trail</td>\n",
       "      <td>325299</td>\n",
       "      <td>Shenzhen</td>\n",
       "      <td>China</td>\n",
       "      <td>Organic</td>\n",
       "      <td>2022-09-17 15:18:00 UTC</td>\n",
       "      <td>Aaron Bailey</td>\n",
       "      <td>27.77292648,120.6446411</td>\n",
       "      <td>2022-09-17 15:18:00.000000</td>\n",
       "      <td>2022-09-17 15:18:00.000000</td>\n",
       "      <td>China</td>\n",
       "      <td>China</td>\n",
       "    </tr>\n",
       "  </tbody>\n",
       "</table>\n",
       "<p>16171 rows × 18 columns</p>\n",
       "</div>"
      ],
      "text/plain": [
       "          id phone_number                      email   age gender  \\\n",
       "17910   6355               zacharywilson@example.net  63.0      M   \n",
       "40255  89452               zacharywilson@example.net  36.0      M   \n",
       "48533  21973               zacharywilson@example.net  69.0      M   \n",
       "65342  51256                zacharywhite@example.com  57.0      M   \n",
       "81908   3694                zacharywhite@example.com  46.0      M   \n",
       "...      ...          ...                        ...   ...    ...   \n",
       "46502  30827   1800794763     aaronbrown@example.net  37.0      M   \n",
       "16913  43837                  aaronbrown@example.net  57.0      M   \n",
       "82877  38846                 aaronbishop@example.net  63.0      M   \n",
       "99332  34467                aaronbarnett@example.net  32.0      M   \n",
       "83704  98330                 aaronbailey@example.com  28.0      M   \n",
       "\n",
       "                    state                street_address postal_code  \\\n",
       "17910  Mato Grosso do Sul             2647 Pacheco Road   79200-000   \n",
       "40255             England  758 Danielle Forge Suite 807        LA14   \n",
       "48533             England     852 Scott Square Apt. 795        BH12   \n",
       "65342              Nagano    49654 Green Port Suite 860    393-0000   \n",
       "81908               Wales             722 Rebecca Trace        LL18   \n",
       "...                   ...                           ...         ...   \n",
       "46502          California       839 Jacqueline Motorway       94565   \n",
       "16913           Chongqing   302 Bentley Skyway Apt. 818      401320   \n",
       "82877         Gyeonggi-do     603 Holmes Rest Suite 538     427-060   \n",
       "99332      Santa Catarina      12160 Ryan Cape Apt. 002   88240-000   \n",
       "83704            Zhejiang             535 Timothy Trail      325299   \n",
       "\n",
       "                    city         country traffic_source  \\\n",
       "17910         Aquidauana          Brasil         Search   \n",
       "40255  Barrow-in-Furness  United Kingdom         Search   \n",
       "48533              Poole  United Kingdom         Search   \n",
       "65342     Shimosuwa town           Japan         Search   \n",
       "81908               Rhyl  United Kingdom          Email   \n",
       "...                  ...             ...            ...   \n",
       "46502          Pittsburg   United States         Search   \n",
       "16913            Huainan           China          Email   \n",
       "82877      Gwacheon City     South Korea         Search   \n",
       "99332   São João Batista          Brasil         Search   \n",
       "83704           Shenzhen           China        Organic   \n",
       "\n",
       "                           created_at       full_name  \\\n",
       "17910         2019-10-17 16:59:00 UTC  Zachary Wilson   \n",
       "40255         2020-10-13 17:01:00 UTC  Zachary Wilson   \n",
       "48533         2021-02-25 01:41:00 UTC  Zachary Wilson   \n",
       "65342         2021-11-23 10:29:00 UTC   Zachary White   \n",
       "81908         2022-08-19 17:11:00 UTC   Zachary White   \n",
       "...                               ...             ...   \n",
       "46502         2021-01-23 04:14:00 UTC     Aaron Brown   \n",
       "16913         2019-10-02 09:10:00 UTC     Aaron Brown   \n",
       "82877         2022-09-04 12:01:00 UTC    Aaron Bishop   \n",
       "99332  2023-04-25 12:29:58.259158 UTC   Aaron Barnett   \n",
       "83704         2022-09-17 15:18:00 UTC    Aaron Bailey   \n",
       "\n",
       "                    geo_location    created_at_first_method  \\\n",
       "17910  -19.75549055,-55.86324783 2019-10-17 16:59:00.000000   \n",
       "40255   54.12374037,-3.230345256 2020-10-13 17:01:00.000000   \n",
       "48533    50.7398895,-1.926010443 2021-02-25 01:41:00.000000   \n",
       "65342    36.11057289,138.1125061 2021-11-23 10:29:00.000000   \n",
       "81908     53.2964742,-3.43619343 2022-08-19 17:11:00.000000   \n",
       "...                          ...                        ...   \n",
       "46502   38.01139832,-121.9111236 2021-01-23 04:14:00.000000   \n",
       "16913    29.39418141,106.5309096 2019-10-02 09:10:00.000000   \n",
       "82877    37.45178501,126.9979733 2022-09-04 12:01:00.000000   \n",
       "99332   -27.33387535,-48.8658571 2023-04-25 12:29:58.259158   \n",
       "83704    27.77292648,120.6446411 2022-09-17 15:18:00.000000   \n",
       "\n",
       "        created_at_second_method country_first_method country_second_method  \n",
       "17910 2019-10-17 16:59:00.000000               Brasil                Brasil  \n",
       "40255 2020-10-13 17:01:00.000000       United Kingdom        United Kingdom  \n",
       "48533 2021-02-25 01:41:00.000000       United Kingdom        United Kingdom  \n",
       "65342 2021-11-23 10:29:00.000000                Japan                 Japan  \n",
       "81908 2022-08-19 17:11:00.000000       United Kingdom        United Kingdom  \n",
       "...                          ...                  ...                   ...  \n",
       "46502 2021-01-23 04:14:00.000000        United States         United States  \n",
       "16913 2019-10-02 09:10:00.000000                China                 China  \n",
       "82877 2022-09-04 12:01:00.000000          South Korea           South Korea  \n",
       "99332 2023-04-25 12:29:58.259158               Brasil                Brasil  \n",
       "83704 2022-09-17 15:18:00.000000                China                 China  \n",
       "\n",
       "[16171 rows x 18 columns]"
      ]
     },
     "execution_count": 533,
     "metadata": {},
     "output_type": "execute_result"
    }
   ],
   "source": [
    "duplicated.sort_values(['email'], ascending=False)"
   ]
  },
  {
   "cell_type": "code",
   "execution_count": null,
   "id": "51919c66",
   "metadata": {},
   "outputs": [],
   "source": []
  }
 ],
 "metadata": {
  "kernelspec": {
   "display_name": "Python 3 (ipykernel)",
   "language": "python",
   "name": "python3"
  },
  "language_info": {
   "codemirror_mode": {
    "name": "ipython",
    "version": 3
   },
   "file_extension": ".py",
   "mimetype": "text/x-python",
   "name": "python",
   "nbconvert_exporter": "python",
   "pygments_lexer": "ipython3",
   "version": "3.7.13"
  }
 },
 "nbformat": 4,
 "nbformat_minor": 5
}
