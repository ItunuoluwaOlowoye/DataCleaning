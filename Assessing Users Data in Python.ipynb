{
 "cells": [
  {
   "cell_type": "markdown",
   "id": "a688de49",
   "metadata": {},
   "source": [
    "# Assessing Users Data in Python"
   ]
  },
  {
   "cell_type": "code",
   "execution_count": 2,
   "id": "2afbad97",
   "metadata": {},
   "outputs": [],
   "source": [
    "# import packages\n",
    "import pandas as pd\n",
    "import numpy as np\n",
    "from matplotlib import pyplot as plt\n",
    "import seaborn as sns"
   ]
  },
  {
   "cell_type": "code",
   "execution_count": 4,
   "id": "cf4b2330",
   "metadata": {},
   "outputs": [],
   "source": [
    "# read the ecommerce file into a dataframe\n",
    "df_users = pd.read_csv('ecommerce_users.csv')"
   ]
  },
  {
   "cell_type": "markdown",
   "id": "80a6d28e",
   "metadata": {},
   "source": [
    "## Functions to assess dataframes(tables) in pandas\n",
    "### Looking at what the dataframe contains\n",
    "1. head function\n",
    "2. tail function\n",
    "3. sample function"
   ]
  },
  {
   "cell_type": "code",
   "execution_count": 5,
   "id": "20340195",
   "metadata": {},
   "outputs": [
    {
     "data": {
      "text/html": [
       "<div>\n",
       "<style scoped>\n",
       "    .dataframe tbody tr th:only-of-type {\n",
       "        vertical-align: middle;\n",
       "    }\n",
       "\n",
       "    .dataframe tbody tr th {\n",
       "        vertical-align: top;\n",
       "    }\n",
       "\n",
       "    .dataframe thead th {\n",
       "        text-align: right;\n",
       "    }\n",
       "</style>\n",
       "<table border=\"1\" class=\"dataframe\">\n",
       "  <thead>\n",
       "    <tr style=\"text-align: right;\">\n",
       "      <th></th>\n",
       "      <th>id</th>\n",
       "      <th>first_name</th>\n",
       "      <th>last_name</th>\n",
       "      <th>phone_number</th>\n",
       "      <th>email</th>\n",
       "      <th>age</th>\n",
       "      <th>gender</th>\n",
       "      <th>state</th>\n",
       "      <th>street_address</th>\n",
       "      <th>postal_code</th>\n",
       "      <th>city</th>\n",
       "      <th>country</th>\n",
       "      <th>latitude</th>\n",
       "      <th>longitude</th>\n",
       "      <th>traffic_source</th>\n",
       "      <th>created_at</th>\n",
       "    </tr>\n",
       "  </thead>\n",
       "  <tbody>\n",
       "    <tr>\n",
       "      <th>0</th>\n",
       "      <td>21304</td>\n",
       "      <td>Heidi</td>\n",
       "      <td>Hall</td>\n",
       "      <td>NaN</td>\n",
       "      <td>heidihall@example.net</td>\n",
       "      <td>70.0</td>\n",
       "      <td>F</td>\n",
       "      <td>Gyeonggi-do</td>\n",
       "      <td>9401 Howard Road Apt. 695</td>\n",
       "      <td>415-850</td>\n",
       "      <td>Gimpo City</td>\n",
       "      <td>South Korea</td>\n",
       "      <td>37.640589</td>\n",
       "      <td>126.566183</td>\n",
       "      <td>Search</td>\n",
       "      <td>2019-01-02 00:19:00 UTC</td>\n",
       "    </tr>\n",
       "    <tr>\n",
       "      <th>1</th>\n",
       "      <td>5012</td>\n",
       "      <td>Billy</td>\n",
       "      <td>Guerrero</td>\n",
       "      <td>1.800341e+09</td>\n",
       "      <td>billyguerrero@example.net</td>\n",
       "      <td>33.0</td>\n",
       "      <td>M</td>\n",
       "      <td>Texas</td>\n",
       "      <td>533 Patricia Roads Apt. 472</td>\n",
       "      <td>79928</td>\n",
       "      <td>Horizon City</td>\n",
       "      <td>United States</td>\n",
       "      <td>31.642378</td>\n",
       "      <td>-106.141715</td>\n",
       "      <td>Search</td>\n",
       "      <td>2019-01-02 00:29:00 UTC</td>\n",
       "    </tr>\n",
       "    <tr>\n",
       "      <th>2</th>\n",
       "      <td>27817</td>\n",
       "      <td>Antonio</td>\n",
       "      <td>Williams</td>\n",
       "      <td>NaN</td>\n",
       "      <td>antoniowilliams@example.net</td>\n",
       "      <td>20.0</td>\n",
       "      <td>M</td>\n",
       "      <td>Zhejiang</td>\n",
       "      <td>0381 Baker Stream Apt. 075</td>\n",
       "      <td>312599</td>\n",
       "      <td>Wuhan</td>\n",
       "      <td>China</td>\n",
       "      <td>29.504850</td>\n",
       "      <td>120.901029</td>\n",
       "      <td>Search</td>\n",
       "      <td>2019-01-02 00:35:00 UTC</td>\n",
       "    </tr>\n",
       "    <tr>\n",
       "      <th>3</th>\n",
       "      <td>14079</td>\n",
       "      <td>Ryan</td>\n",
       "      <td>Brown</td>\n",
       "      <td>NaN</td>\n",
       "      <td>ryanbrown@example.com</td>\n",
       "      <td>68.0</td>\n",
       "      <td>M</td>\n",
       "      <td>Bahia</td>\n",
       "      <td>277 Walker Mountains</td>\n",
       "      <td>45920-000</td>\n",
       "      <td>Nova Viçosa</td>\n",
       "      <td>Brasil</td>\n",
       "      <td>-17.900464</td>\n",
       "      <td>-39.716076</td>\n",
       "      <td>Search</td>\n",
       "      <td>2019-01-02 00:43:00 UTC</td>\n",
       "    </tr>\n",
       "    <tr>\n",
       "      <th>4</th>\n",
       "      <td>93946</td>\n",
       "      <td>Sabrina</td>\n",
       "      <td>Rodriguez</td>\n",
       "      <td>1.800594e+09</td>\n",
       "      <td>sabrinarodriguez@example.net</td>\n",
       "      <td>39.0</td>\n",
       "      <td>F</td>\n",
       "      <td>Florida</td>\n",
       "      <td>06720 Smith Summit Suite 860</td>\n",
       "      <td>34711</td>\n",
       "      <td>Clermont</td>\n",
       "      <td>United States</td>\n",
       "      <td>28.525665</td>\n",
       "      <td>-81.756419</td>\n",
       "      <td>Search</td>\n",
       "      <td>2019-01-02 01:14:00 UTC</td>\n",
       "    </tr>\n",
       "  </tbody>\n",
       "</table>\n",
       "</div>"
      ],
      "text/plain": [
       "      id first_name  last_name  phone_number                         email  \\\n",
       "0  21304      Heidi       Hall           NaN         heidihall@example.net   \n",
       "1   5012      Billy   Guerrero  1.800341e+09     billyguerrero@example.net   \n",
       "2  27817    Antonio   Williams           NaN   antoniowilliams@example.net   \n",
       "3  14079       Ryan      Brown           NaN         ryanbrown@example.com   \n",
       "4  93946    Sabrina  Rodriguez  1.800594e+09  sabrinarodriguez@example.net   \n",
       "\n",
       "    age gender        state                street_address postal_code  \\\n",
       "0  70.0      F  Gyeonggi-do     9401 Howard Road Apt. 695     415-850   \n",
       "1  33.0      M        Texas   533 Patricia Roads Apt. 472       79928   \n",
       "2  20.0      M     Zhejiang    0381 Baker Stream Apt. 075      312599   \n",
       "3  68.0      M        Bahia          277 Walker Mountains   45920-000   \n",
       "4  39.0      F      Florida  06720 Smith Summit Suite 860       34711   \n",
       "\n",
       "           city        country   latitude   longitude traffic_source  \\\n",
       "0    Gimpo City    South Korea  37.640589  126.566183         Search   \n",
       "1  Horizon City  United States  31.642378 -106.141715         Search   \n",
       "2         Wuhan          China  29.504850  120.901029         Search   \n",
       "3   Nova Viçosa         Brasil -17.900464  -39.716076         Search   \n",
       "4      Clermont  United States  28.525665  -81.756419         Search   \n",
       "\n",
       "                created_at  \n",
       "0  2019-01-02 00:19:00 UTC  \n",
       "1  2019-01-02 00:29:00 UTC  \n",
       "2  2019-01-02 00:35:00 UTC  \n",
       "3  2019-01-02 00:43:00 UTC  \n",
       "4  2019-01-02 01:14:00 UTC  "
      ]
     },
     "execution_count": 5,
     "metadata": {},
     "output_type": "execute_result"
    }
   ],
   "source": [
    "# the head function\n",
    "df_users.head() # by default, it shows the first five rows"
   ]
  },
  {
   "cell_type": "code",
   "execution_count": 9,
   "id": "ed6ed72f",
   "metadata": {},
   "outputs": [
    {
     "data": {
      "text/html": [
       "<div>\n",
       "<style scoped>\n",
       "    .dataframe tbody tr th:only-of-type {\n",
       "        vertical-align: middle;\n",
       "    }\n",
       "\n",
       "    .dataframe tbody tr th {\n",
       "        vertical-align: top;\n",
       "    }\n",
       "\n",
       "    .dataframe thead th {\n",
       "        text-align: right;\n",
       "    }\n",
       "</style>\n",
       "<table border=\"1\" class=\"dataframe\">\n",
       "  <thead>\n",
       "    <tr style=\"text-align: right;\">\n",
       "      <th></th>\n",
       "      <th>id</th>\n",
       "      <th>first_name</th>\n",
       "      <th>last_name</th>\n",
       "      <th>phone_number</th>\n",
       "      <th>email</th>\n",
       "      <th>age</th>\n",
       "      <th>gender</th>\n",
       "      <th>state</th>\n",
       "      <th>street_address</th>\n",
       "      <th>postal_code</th>\n",
       "      <th>city</th>\n",
       "      <th>country</th>\n",
       "      <th>latitude</th>\n",
       "      <th>longitude</th>\n",
       "      <th>traffic_source</th>\n",
       "      <th>created_at</th>\n",
       "    </tr>\n",
       "  </thead>\n",
       "  <tbody>\n",
       "    <tr>\n",
       "      <th>0</th>\n",
       "      <td>21304</td>\n",
       "      <td>Heidi</td>\n",
       "      <td>Hall</td>\n",
       "      <td>NaN</td>\n",
       "      <td>heidihall@example.net</td>\n",
       "      <td>70.0</td>\n",
       "      <td>F</td>\n",
       "      <td>Gyeonggi-do</td>\n",
       "      <td>9401 Howard Road Apt. 695</td>\n",
       "      <td>415-850</td>\n",
       "      <td>Gimpo City</td>\n",
       "      <td>South Korea</td>\n",
       "      <td>37.640589</td>\n",
       "      <td>126.566183</td>\n",
       "      <td>Search</td>\n",
       "      <td>2019-01-02 00:19:00 UTC</td>\n",
       "    </tr>\n",
       "    <tr>\n",
       "      <th>1</th>\n",
       "      <td>5012</td>\n",
       "      <td>Billy</td>\n",
       "      <td>Guerrero</td>\n",
       "      <td>1.800341e+09</td>\n",
       "      <td>billyguerrero@example.net</td>\n",
       "      <td>33.0</td>\n",
       "      <td>M</td>\n",
       "      <td>Texas</td>\n",
       "      <td>533 Patricia Roads Apt. 472</td>\n",
       "      <td>79928</td>\n",
       "      <td>Horizon City</td>\n",
       "      <td>United States</td>\n",
       "      <td>31.642378</td>\n",
       "      <td>-106.141715</td>\n",
       "      <td>Search</td>\n",
       "      <td>2019-01-02 00:29:00 UTC</td>\n",
       "    </tr>\n",
       "    <tr>\n",
       "      <th>2</th>\n",
       "      <td>27817</td>\n",
       "      <td>Antonio</td>\n",
       "      <td>Williams</td>\n",
       "      <td>NaN</td>\n",
       "      <td>antoniowilliams@example.net</td>\n",
       "      <td>20.0</td>\n",
       "      <td>M</td>\n",
       "      <td>Zhejiang</td>\n",
       "      <td>0381 Baker Stream Apt. 075</td>\n",
       "      <td>312599</td>\n",
       "      <td>Wuhan</td>\n",
       "      <td>China</td>\n",
       "      <td>29.504850</td>\n",
       "      <td>120.901029</td>\n",
       "      <td>Search</td>\n",
       "      <td>2019-01-02 00:35:00 UTC</td>\n",
       "    </tr>\n",
       "  </tbody>\n",
       "</table>\n",
       "</div>"
      ],
      "text/plain": [
       "      id first_name last_name  phone_number                        email  \\\n",
       "0  21304      Heidi      Hall           NaN        heidihall@example.net   \n",
       "1   5012      Billy  Guerrero  1.800341e+09    billyguerrero@example.net   \n",
       "2  27817    Antonio  Williams           NaN  antoniowilliams@example.net   \n",
       "\n",
       "    age gender        state               street_address postal_code  \\\n",
       "0  70.0      F  Gyeonggi-do    9401 Howard Road Apt. 695     415-850   \n",
       "1  33.0      M        Texas  533 Patricia Roads Apt. 472       79928   \n",
       "2  20.0      M     Zhejiang   0381 Baker Stream Apt. 075      312599   \n",
       "\n",
       "           city        country   latitude   longitude traffic_source  \\\n",
       "0    Gimpo City    South Korea  37.640589  126.566183         Search   \n",
       "1  Horizon City  United States  31.642378 -106.141715         Search   \n",
       "2         Wuhan          China  29.504850  120.901029         Search   \n",
       "\n",
       "                created_at  \n",
       "0  2019-01-02 00:19:00 UTC  \n",
       "1  2019-01-02 00:29:00 UTC  \n",
       "2  2019-01-02 00:35:00 UTC  "
      ]
     },
     "execution_count": 9,
     "metadata": {},
     "output_type": "execute_result"
    }
   ],
   "source": [
    "# to see other than five rows, you put the number in the bracket\n",
    "df_users.head(3)"
   ]
  },
  {
   "cell_type": "code",
   "execution_count": 11,
   "id": "65c1e781",
   "metadata": {},
   "outputs": [
    {
     "data": {
      "text/html": [
       "<div>\n",
       "<style scoped>\n",
       "    .dataframe tbody tr th:only-of-type {\n",
       "        vertical-align: middle;\n",
       "    }\n",
       "\n",
       "    .dataframe tbody tr th {\n",
       "        vertical-align: top;\n",
       "    }\n",
       "\n",
       "    .dataframe thead th {\n",
       "        text-align: right;\n",
       "    }\n",
       "</style>\n",
       "<table border=\"1\" class=\"dataframe\">\n",
       "  <thead>\n",
       "    <tr style=\"text-align: right;\">\n",
       "      <th></th>\n",
       "      <th>id</th>\n",
       "      <th>first_name</th>\n",
       "      <th>last_name</th>\n",
       "      <th>phone_number</th>\n",
       "      <th>email</th>\n",
       "      <th>age</th>\n",
       "      <th>gender</th>\n",
       "      <th>state</th>\n",
       "      <th>street_address</th>\n",
       "      <th>postal_code</th>\n",
       "      <th>city</th>\n",
       "      <th>country</th>\n",
       "      <th>latitude</th>\n",
       "      <th>longitude</th>\n",
       "      <th>traffic_source</th>\n",
       "      <th>created_at</th>\n",
       "    </tr>\n",
       "  </thead>\n",
       "  <tbody>\n",
       "    <tr>\n",
       "      <th>99994</th>\n",
       "      <td>79066</td>\n",
       "      <td>Travis</td>\n",
       "      <td>Allen</td>\n",
       "      <td>1.800556e+09</td>\n",
       "      <td>travisallen@example.org</td>\n",
       "      <td>17.0</td>\n",
       "      <td>M</td>\n",
       "      <td>California</td>\n",
       "      <td>665 Richard Inlet</td>\n",
       "      <td>91767</td>\n",
       "      <td>Pomona</td>\n",
       "      <td>United States</td>\n",
       "      <td>34.081517</td>\n",
       "      <td>-117.738461</td>\n",
       "      <td>Search</td>\n",
       "      <td>2023-04-26 19:23:03.636324 UTC</td>\n",
       "    </tr>\n",
       "    <tr>\n",
       "      <th>99995</th>\n",
       "      <td>98969</td>\n",
       "      <td>Linda</td>\n",
       "      <td>Mcgrath</td>\n",
       "      <td>1.800139e+09</td>\n",
       "      <td>lindamcgrath@example.org</td>\n",
       "      <td>54.0</td>\n",
       "      <td>F</td>\n",
       "      <td>Florida</td>\n",
       "      <td>2787 Barrett Valleys Apt. 986</td>\n",
       "      <td>33312</td>\n",
       "      <td>Fort Lauderdale</td>\n",
       "      <td>United States</td>\n",
       "      <td>26.088242</td>\n",
       "      <td>-80.181492</td>\n",
       "      <td>Display</td>\n",
       "      <td>2023-04-26 19:25:09.399335 UTC</td>\n",
       "    </tr>\n",
       "    <tr>\n",
       "      <th>99996</th>\n",
       "      <td>56920</td>\n",
       "      <td>Jasmine</td>\n",
       "      <td>Valdez</td>\n",
       "      <td>NaN</td>\n",
       "      <td>jasminevaldez@example.net</td>\n",
       "      <td>68.0</td>\n",
       "      <td>F</td>\n",
       "      <td>Île-de-France</td>\n",
       "      <td>4700 Mccann Green</td>\n",
       "      <td>75016</td>\n",
       "      <td>Paris</td>\n",
       "      <td>France</td>\n",
       "      <td>48.857391</td>\n",
       "      <td>2.256367</td>\n",
       "      <td>Search</td>\n",
       "      <td>2023-04-26 19:29:08.280281 UTC</td>\n",
       "    </tr>\n",
       "    <tr>\n",
       "      <th>99997</th>\n",
       "      <td>77719</td>\n",
       "      <td>Haley</td>\n",
       "      <td>Campbell</td>\n",
       "      <td>NaN</td>\n",
       "      <td>haleycampbell@example.com</td>\n",
       "      <td>50.0</td>\n",
       "      <td>F</td>\n",
       "      <td>Bourgogne-Franche-Comté</td>\n",
       "      <td>855 Suarez Walks</td>\n",
       "      <td>21000</td>\n",
       "      <td>Dijon</td>\n",
       "      <td>France</td>\n",
       "      <td>47.322872</td>\n",
       "      <td>5.037560</td>\n",
       "      <td>Search</td>\n",
       "      <td>2023-04-26 19:29:23.730034 UTC</td>\n",
       "    </tr>\n",
       "    <tr>\n",
       "      <th>99998</th>\n",
       "      <td>70163</td>\n",
       "      <td>Brianna</td>\n",
       "      <td>Dalton</td>\n",
       "      <td>1.800954e+09</td>\n",
       "      <td>briannadalton@example.com</td>\n",
       "      <td>28.0</td>\n",
       "      <td>F</td>\n",
       "      <td>Texas</td>\n",
       "      <td>015 Mcgee Fords Apt. 880</td>\n",
       "      <td>78589</td>\n",
       "      <td>San Juan</td>\n",
       "      <td>United States</td>\n",
       "      <td>26.186049</td>\n",
       "      <td>-98.151782</td>\n",
       "      <td>Search</td>\n",
       "      <td>2023-04-26 19:33:36.935949 UTC</td>\n",
       "    </tr>\n",
       "    <tr>\n",
       "      <th>99999</th>\n",
       "      <td>95519</td>\n",
       "      <td>Darin</td>\n",
       "      <td>Ortiz</td>\n",
       "      <td>NaN</td>\n",
       "      <td>darinortiz@example.com</td>\n",
       "      <td>66.0</td>\n",
       "      <td>M</td>\n",
       "      <td>Rio de Janeiro</td>\n",
       "      <td>430 Megan Mission</td>\n",
       "      <td>22750-008</td>\n",
       "      <td>Rio de Janeiro</td>\n",
       "      <td>Brasil</td>\n",
       "      <td>-22.937678</td>\n",
       "      <td>-43.336215</td>\n",
       "      <td>Search</td>\n",
       "      <td>2023-04-26 19:35:28.485865 UTC</td>\n",
       "    </tr>\n",
       "  </tbody>\n",
       "</table>\n",
       "</div>"
      ],
      "text/plain": [
       "          id first_name last_name  phone_number                      email  \\\n",
       "99994  79066     Travis     Allen  1.800556e+09    travisallen@example.org   \n",
       "99995  98969      Linda   Mcgrath  1.800139e+09   lindamcgrath@example.org   \n",
       "99996  56920    Jasmine    Valdez           NaN  jasminevaldez@example.net   \n",
       "99997  77719      Haley  Campbell           NaN  haleycampbell@example.com   \n",
       "99998  70163    Brianna    Dalton  1.800954e+09  briannadalton@example.com   \n",
       "99999  95519      Darin     Ortiz           NaN     darinortiz@example.com   \n",
       "\n",
       "        age gender                    state                 street_address  \\\n",
       "99994  17.0      M               California              665 Richard Inlet   \n",
       "99995  54.0      F                  Florida  2787 Barrett Valleys Apt. 986   \n",
       "99996  68.0      F            Île-de-France              4700 Mccann Green   \n",
       "99997  50.0      F  Bourgogne-Franche-Comté               855 Suarez Walks   \n",
       "99998  28.0      F                    Texas       015 Mcgee Fords Apt. 880   \n",
       "99999  66.0      M           Rio de Janeiro              430 Megan Mission   \n",
       "\n",
       "      postal_code             city        country   latitude   longitude  \\\n",
       "99994       91767           Pomona  United States  34.081517 -117.738461   \n",
       "99995       33312  Fort Lauderdale  United States  26.088242  -80.181492   \n",
       "99996       75016            Paris         France  48.857391    2.256367   \n",
       "99997       21000            Dijon         France  47.322872    5.037560   \n",
       "99998       78589         San Juan  United States  26.186049  -98.151782   \n",
       "99999   22750-008   Rio de Janeiro         Brasil -22.937678  -43.336215   \n",
       "\n",
       "      traffic_source                      created_at  \n",
       "99994         Search  2023-04-26 19:23:03.636324 UTC  \n",
       "99995        Display  2023-04-26 19:25:09.399335 UTC  \n",
       "99996         Search  2023-04-26 19:29:08.280281 UTC  \n",
       "99997         Search  2023-04-26 19:29:23.730034 UTC  \n",
       "99998         Search  2023-04-26 19:33:36.935949 UTC  \n",
       "99999         Search  2023-04-26 19:35:28.485865 UTC  "
      ]
     },
     "execution_count": 11,
     "metadata": {},
     "output_type": "execute_result"
    }
   ],
   "source": [
    "# the tail function\n",
    "df_users.tail(6)"
   ]
  },
  {
   "cell_type": "code",
   "execution_count": 17,
   "id": "426c1934",
   "metadata": {},
   "outputs": [
    {
     "data": {
      "text/html": [
       "<div>\n",
       "<style scoped>\n",
       "    .dataframe tbody tr th:only-of-type {\n",
       "        vertical-align: middle;\n",
       "    }\n",
       "\n",
       "    .dataframe tbody tr th {\n",
       "        vertical-align: top;\n",
       "    }\n",
       "\n",
       "    .dataframe thead th {\n",
       "        text-align: right;\n",
       "    }\n",
       "</style>\n",
       "<table border=\"1\" class=\"dataframe\">\n",
       "  <thead>\n",
       "    <tr style=\"text-align: right;\">\n",
       "      <th></th>\n",
       "      <th>id</th>\n",
       "      <th>first_name</th>\n",
       "      <th>last_name</th>\n",
       "      <th>phone_number</th>\n",
       "      <th>email</th>\n",
       "      <th>age</th>\n",
       "      <th>gender</th>\n",
       "      <th>state</th>\n",
       "      <th>street_address</th>\n",
       "      <th>postal_code</th>\n",
       "      <th>city</th>\n",
       "      <th>country</th>\n",
       "      <th>latitude</th>\n",
       "      <th>longitude</th>\n",
       "      <th>traffic_source</th>\n",
       "      <th>created_at</th>\n",
       "    </tr>\n",
       "  </thead>\n",
       "  <tbody>\n",
       "    <tr>\n",
       "      <th>9721</th>\n",
       "      <td>65413</td>\n",
       "      <td>Rebecca</td>\n",
       "      <td>Lopez</td>\n",
       "      <td>NaN</td>\n",
       "      <td>rebeccalopez@example.com</td>\n",
       "      <td>25.0</td>\n",
       "      <td>F</td>\n",
       "      <td>Goiás</td>\n",
       "      <td>3122 Annette Radial Suite 779</td>\n",
       "      <td>75370-000</td>\n",
       "      <td>NaN</td>\n",
       "      <td>Brasil</td>\n",
       "      <td>-16.496023</td>\n",
       "      <td>-49.431975</td>\n",
       "      <td>Search</td>\n",
       "      <td>2019-06-08 14:16:00 UTC</td>\n",
       "    </tr>\n",
       "    <tr>\n",
       "      <th>91865</th>\n",
       "      <td>39801</td>\n",
       "      <td>Todd</td>\n",
       "      <td>White</td>\n",
       "      <td>NaN</td>\n",
       "      <td>toddwhite@example.org</td>\n",
       "      <td>68.0</td>\n",
       "      <td>M</td>\n",
       "      <td>Fujian</td>\n",
       "      <td>638 Jennifer Well</td>\n",
       "      <td>361110</td>\n",
       "      <td>Zhengzhou</td>\n",
       "      <td>China</td>\n",
       "      <td>24.702806</td>\n",
       "      <td>118.128648</td>\n",
       "      <td>Search</td>\n",
       "      <td>2023-01-26 13:53:00 UTC</td>\n",
       "    </tr>\n",
       "    <tr>\n",
       "      <th>73450</th>\n",
       "      <td>83435</td>\n",
       "      <td>Amy</td>\n",
       "      <td>Jones</td>\n",
       "      <td>1.800202e+09</td>\n",
       "      <td>amyjones@example.com</td>\n",
       "      <td>60.0</td>\n",
       "      <td>F</td>\n",
       "      <td>District of Columbia</td>\n",
       "      <td>70820 Evans Inlet</td>\n",
       "      <td>20003</td>\n",
       "      <td>Washington</td>\n",
       "      <td>United States</td>\n",
       "      <td>38.881006</td>\n",
       "      <td>-76.990183</td>\n",
       "      <td>Search</td>\n",
       "      <td>2022-04-05 13:37:00 UTC</td>\n",
       "    </tr>\n",
       "    <tr>\n",
       "      <th>33708</th>\n",
       "      <td>16611</td>\n",
       "      <td>Kristy</td>\n",
       "      <td>Phillips</td>\n",
       "      <td>1.800681e+09</td>\n",
       "      <td>kristyphillips@example.com</td>\n",
       "      <td>19.0</td>\n",
       "      <td>F</td>\n",
       "      <td>Florida</td>\n",
       "      <td>569 Aaron Radial</td>\n",
       "      <td>33021</td>\n",
       "      <td>Hollywood</td>\n",
       "      <td>United States</td>\n",
       "      <td>26.022942</td>\n",
       "      <td>-80.187137</td>\n",
       "      <td>Search</td>\n",
       "      <td>2020-06-28 12:38:00 UTC</td>\n",
       "    </tr>\n",
       "    <tr>\n",
       "      <th>32375</th>\n",
       "      <td>10428</td>\n",
       "      <td>Daniel</td>\n",
       "      <td>Rodriguez</td>\n",
       "      <td>NaN</td>\n",
       "      <td>danielrodriguez@example.com</td>\n",
       "      <td>50.0</td>\n",
       "      <td>M</td>\n",
       "      <td>Guizhou</td>\n",
       "      <td>032 Smith Ridge</td>\n",
       "      <td>550004</td>\n",
       "      <td>Wenzhou</td>\n",
       "      <td>China</td>\n",
       "      <td>26.614484</td>\n",
       "      <td>106.755908</td>\n",
       "      <td>Facebook</td>\n",
       "      <td>2020-06-07 02:15:00 UTC</td>\n",
       "    </tr>\n",
       "  </tbody>\n",
       "</table>\n",
       "</div>"
      ],
      "text/plain": [
       "          id first_name  last_name  phone_number                        email  \\\n",
       "9721   65413    Rebecca      Lopez           NaN     rebeccalopez@example.com   \n",
       "91865  39801       Todd      White           NaN        toddwhite@example.org   \n",
       "73450  83435        Amy      Jones  1.800202e+09         amyjones@example.com   \n",
       "33708  16611     Kristy   Phillips  1.800681e+09   kristyphillips@example.com   \n",
       "32375  10428     Daniel  Rodriguez           NaN  danielrodriguez@example.com   \n",
       "\n",
       "        age gender                 state                 street_address  \\\n",
       "9721   25.0      F                 Goiás  3122 Annette Radial Suite 779   \n",
       "91865  68.0      M                Fujian              638 Jennifer Well   \n",
       "73450  60.0      F  District of Columbia              70820 Evans Inlet   \n",
       "33708  19.0      F               Florida               569 Aaron Radial   \n",
       "32375  50.0      M               Guizhou                032 Smith Ridge   \n",
       "\n",
       "      postal_code        city        country   latitude   longitude  \\\n",
       "9721    75370-000         NaN         Brasil -16.496023  -49.431975   \n",
       "91865      361110   Zhengzhou          China  24.702806  118.128648   \n",
       "73450       20003  Washington  United States  38.881006  -76.990183   \n",
       "33708       33021   Hollywood  United States  26.022942  -80.187137   \n",
       "32375      550004     Wenzhou          China  26.614484  106.755908   \n",
       "\n",
       "      traffic_source               created_at  \n",
       "9721          Search  2019-06-08 14:16:00 UTC  \n",
       "91865         Search  2023-01-26 13:53:00 UTC  \n",
       "73450         Search  2022-04-05 13:37:00 UTC  \n",
       "33708         Search  2020-06-28 12:38:00 UTC  \n",
       "32375       Facebook  2020-06-07 02:15:00 UTC  "
      ]
     },
     "execution_count": 17,
     "metadata": {},
     "output_type": "execute_result"
    }
   ],
   "source": [
    "# sample function\n",
    "df_users.sample(5)"
   ]
  },
  {
   "cell_type": "markdown",
   "id": "b89b543c",
   "metadata": {},
   "source": [
    "### Describing the data\n",
    "1. info\n",
    "2. describe\n",
    "\n",
    "`dataframe.info()` summarizes:\n",
    "* The number of rows and columns present\n",
    "* It counts not null values present\n",
    "* Datatypes that are present"
   ]
  },
  {
   "cell_type": "code",
   "execution_count": 18,
   "id": "35a90275",
   "metadata": {},
   "outputs": [
    {
     "name": "stdout",
     "output_type": "stream",
     "text": [
      "<class 'pandas.core.frame.DataFrame'>\n",
      "RangeIndex: 100000 entries, 0 to 99999\n",
      "Data columns (total 16 columns):\n",
      " #   Column          Non-Null Count   Dtype  \n",
      "---  ------          --------------   -----  \n",
      " 0   id              100000 non-null  int64  \n",
      " 1   first_name      100000 non-null  object \n",
      " 2   last_name       100000 non-null  object \n",
      " 3   phone_number    22669 non-null   float64\n",
      " 4   email           99999 non-null   object \n",
      " 5   age             99998 non-null   float64\n",
      " 6   gender          100000 non-null  object \n",
      " 7   state           100000 non-null  object \n",
      " 8   street_address  100000 non-null  object \n",
      " 9   postal_code     100000 non-null  object \n",
      " 10  city            99007 non-null   object \n",
      " 11  country         100000 non-null  object \n",
      " 12  latitude        99998 non-null   float64\n",
      " 13  longitude       99998 non-null   float64\n",
      " 14  traffic_source  100000 non-null  object \n",
      " 15  created_at      100000 non-null  object \n",
      "dtypes: float64(4), int64(1), object(11)\n",
      "memory usage: 12.2+ MB\n"
     ]
    }
   ],
   "source": [
    "df_users.info()"
   ]
  },
  {
   "cell_type": "markdown",
   "id": "266fd1ec",
   "metadata": {},
   "source": [
    "#### Issue log\n",
    "1. Null values in phone number, email, age, city, longitude and latitude fields\n",
    "2. Id, phone number, age, latitude and longitude have inaccurate data types"
   ]
  },
  {
   "cell_type": "code",
   "execution_count": 19,
   "id": "85705c63",
   "metadata": {},
   "outputs": [
    {
     "data": {
      "text/html": [
       "<div>\n",
       "<style scoped>\n",
       "    .dataframe tbody tr th:only-of-type {\n",
       "        vertical-align: middle;\n",
       "    }\n",
       "\n",
       "    .dataframe tbody tr th {\n",
       "        vertical-align: top;\n",
       "    }\n",
       "\n",
       "    .dataframe thead th {\n",
       "        text-align: right;\n",
       "    }\n",
       "</style>\n",
       "<table border=\"1\" class=\"dataframe\">\n",
       "  <thead>\n",
       "    <tr style=\"text-align: right;\">\n",
       "      <th></th>\n",
       "      <th>id</th>\n",
       "      <th>phone_number</th>\n",
       "      <th>age</th>\n",
       "      <th>latitude</th>\n",
       "      <th>longitude</th>\n",
       "    </tr>\n",
       "  </thead>\n",
       "  <tbody>\n",
       "    <tr>\n",
       "      <th>count</th>\n",
       "      <td>100000.000000</td>\n",
       "      <td>2.266900e+04</td>\n",
       "      <td>99998.000000</td>\n",
       "      <td>99998.000000</td>\n",
       "      <td>99998.000000</td>\n",
       "    </tr>\n",
       "    <tr>\n",
       "      <th>mean</th>\n",
       "      <td>50000.500000</td>\n",
       "      <td>1.800250e+09</td>\n",
       "      <td>41.006170</td>\n",
       "      <td>28.305884</td>\n",
       "      <td>24.344178</td>\n",
       "    </tr>\n",
       "    <tr>\n",
       "      <th>std</th>\n",
       "      <td>28867.657797</td>\n",
       "      <td>2.262793e+07</td>\n",
       "      <td>17.033479</td>\n",
       "      <td>22.052213</td>\n",
       "      <td>89.964565</td>\n",
       "    </tr>\n",
       "    <tr>\n",
       "      <th>min</th>\n",
       "      <td>1.000000</td>\n",
       "      <td>1.800387e+07</td>\n",
       "      <td>12.000000</td>\n",
       "      <td>-43.160756</td>\n",
       "      <td>-158.164931</td>\n",
       "    </tr>\n",
       "    <tr>\n",
       "      <th>25%</th>\n",
       "      <td>25000.750000</td>\n",
       "      <td>1.800324e+09</td>\n",
       "      <td>26.000000</td>\n",
       "      <td>26.110473</td>\n",
       "      <td>-51.049500</td>\n",
       "    </tr>\n",
       "    <tr>\n",
       "      <th>50%</th>\n",
       "      <td>50000.500000</td>\n",
       "      <td>1.800550e+09</td>\n",
       "      <td>41.000000</td>\n",
       "      <td>35.247482</td>\n",
       "      <td>4.411841</td>\n",
       "    </tr>\n",
       "    <tr>\n",
       "      <th>75%</th>\n",
       "      <td>75000.250000</td>\n",
       "      <td>1.800773e+09</td>\n",
       "      <td>56.000000</td>\n",
       "      <td>40.725404</td>\n",
       "      <td>116.345098</td>\n",
       "    </tr>\n",
       "    <tr>\n",
       "      <th>max</th>\n",
       "      <td>100000.000000</td>\n",
       "      <td>1.801000e+09</td>\n",
       "      <td>70.000000</td>\n",
       "      <td>64.865194</td>\n",
       "      <td>153.560238</td>\n",
       "    </tr>\n",
       "  </tbody>\n",
       "</table>\n",
       "</div>"
      ],
      "text/plain": [
       "                  id  phone_number           age      latitude     longitude\n",
       "count  100000.000000  2.266900e+04  99998.000000  99998.000000  99998.000000\n",
       "mean    50000.500000  1.800250e+09     41.006170     28.305884     24.344178\n",
       "std     28867.657797  2.262793e+07     17.033479     22.052213     89.964565\n",
       "min         1.000000  1.800387e+07     12.000000    -43.160756   -158.164931\n",
       "25%     25000.750000  1.800324e+09     26.000000     26.110473    -51.049500\n",
       "50%     50000.500000  1.800550e+09     41.000000     35.247482      4.411841\n",
       "75%     75000.250000  1.800773e+09     56.000000     40.725404    116.345098\n",
       "max    100000.000000  1.801000e+09     70.000000     64.865194    153.560238"
      ]
     },
     "execution_count": 19,
     "metadata": {},
     "output_type": "execute_result"
    }
   ],
   "source": [
    "df_users.describe()"
   ]
  },
  {
   "cell_type": "markdown",
   "id": "696a5aed",
   "metadata": {},
   "source": [
    "#### Number of rows and columns present: df.shape"
   ]
  },
  {
   "cell_type": "code",
   "execution_count": 20,
   "id": "ad7f7a89",
   "metadata": {},
   "outputs": [
    {
     "data": {
      "text/plain": [
       "(100000, 16)"
      ]
     },
     "execution_count": 20,
     "metadata": {},
     "output_type": "execute_result"
    }
   ],
   "source": [
    "df_users.shape"
   ]
  },
  {
   "cell_type": "code",
   "execution_count": 23,
   "id": "b8561cc1",
   "metadata": {},
   "outputs": [
    {
     "data": {
      "text/plain": [
       "100000"
      ]
     },
     "execution_count": 23,
     "metadata": {},
     "output_type": "execute_result"
    }
   ],
   "source": [
    "# separate rows\n",
    "df_users.shape[0]"
   ]
  },
  {
   "cell_type": "code",
   "execution_count": 25,
   "id": "2ff375e4",
   "metadata": {},
   "outputs": [
    {
     "data": {
      "text/plain": [
       "100000"
      ]
     },
     "execution_count": 25,
     "metadata": {},
     "output_type": "execute_result"
    }
   ],
   "source": [
    "len(df_users)"
   ]
  },
  {
   "cell_type": "code",
   "execution_count": 24,
   "id": "2e0ef086",
   "metadata": {},
   "outputs": [
    {
     "data": {
      "text/plain": [
       "16"
      ]
     },
     "execution_count": 24,
     "metadata": {},
     "output_type": "execute_result"
    }
   ],
   "source": [
    "# separate columns\n",
    "df_users.shape[1]"
   ]
  },
  {
   "cell_type": "markdown",
   "id": "8329cc81",
   "metadata": {},
   "source": [
    "#### Count not null values: df.notna().sum()"
   ]
  },
  {
   "cell_type": "code",
   "execution_count": 28,
   "id": "13f9b7ff",
   "metadata": {},
   "outputs": [
    {
     "data": {
      "text/plain": [
       "id                100000\n",
       "first_name        100000\n",
       "last_name         100000\n",
       "phone_number       22669\n",
       "email              99999\n",
       "age                99998\n",
       "gender            100000\n",
       "state             100000\n",
       "street_address    100000\n",
       "postal_code       100000\n",
       "city               99007\n",
       "country           100000\n",
       "latitude           99998\n",
       "longitude          99998\n",
       "traffic_source    100000\n",
       "created_at        100000\n",
       "dtype: int64"
      ]
     },
     "execution_count": 28,
     "metadata": {},
     "output_type": "execute_result"
    }
   ],
   "source": [
    "# count not null values\n",
    "df_users.notnull().sum()"
   ]
  },
  {
   "cell_type": "code",
   "execution_count": 29,
   "id": "ab9ec539",
   "metadata": {},
   "outputs": [
    {
     "data": {
      "text/plain": [
       "id                    0\n",
       "first_name            0\n",
       "last_name             0\n",
       "phone_number      77331\n",
       "email                 1\n",
       "age                   2\n",
       "gender                0\n",
       "state                 0\n",
       "street_address        0\n",
       "postal_code           0\n",
       "city                993\n",
       "country               0\n",
       "latitude              2\n",
       "longitude             2\n",
       "traffic_source        0\n",
       "created_at            0\n",
       "dtype: int64"
      ]
     },
     "execution_count": 29,
     "metadata": {},
     "output_type": "execute_result"
    }
   ],
   "source": [
    "# count null values\n",
    "df_users.isnull().sum()"
   ]
  },
  {
   "cell_type": "code",
   "execution_count": 32,
   "id": "ebeb99f7",
   "metadata": {},
   "outputs": [
    {
     "data": {
      "text/plain": [
       "99007"
      ]
     },
     "execution_count": 32,
     "metadata": {},
     "output_type": "execute_result"
    }
   ],
   "source": [
    "# not null for the city column\n",
    "df_users['city'].notnull().sum()"
   ]
  },
  {
   "cell_type": "code",
   "execution_count": 33,
   "id": "e70c1f75",
   "metadata": {},
   "outputs": [
    {
     "data": {
      "text/plain": [
       "99007"
      ]
     },
     "execution_count": 33,
     "metadata": {},
     "output_type": "execute_result"
    }
   ],
   "source": [
    "# not null for the city column\n",
    "df_users.city.notnull().sum()"
   ]
  },
  {
   "cell_type": "markdown",
   "id": "3662b3c5",
   "metadata": {},
   "source": [
    "#### Know datatypes: df.dtypes"
   ]
  },
  {
   "cell_type": "code",
   "execution_count": 30,
   "id": "470c6296",
   "metadata": {},
   "outputs": [
    {
     "data": {
      "text/plain": [
       "id                  int64\n",
       "first_name         object\n",
       "last_name          object\n",
       "phone_number      float64\n",
       "email              object\n",
       "age               float64\n",
       "gender             object\n",
       "state              object\n",
       "street_address     object\n",
       "postal_code        object\n",
       "city               object\n",
       "country            object\n",
       "latitude          float64\n",
       "longitude         float64\n",
       "traffic_source     object\n",
       "created_at         object\n",
       "dtype: object"
      ]
     },
     "execution_count": 30,
     "metadata": {},
     "output_type": "execute_result"
    }
   ],
   "source": [
    "df_users.dtypes"
   ]
  },
  {
   "cell_type": "code",
   "execution_count": 34,
   "id": "6329f6f9",
   "metadata": {},
   "outputs": [
    {
     "data": {
      "text/plain": [
       "dtype('O')"
      ]
     },
     "execution_count": 34,
     "metadata": {},
     "output_type": "execute_result"
    }
   ],
   "source": [
    "df_users.city.dtypes"
   ]
  },
  {
   "cell_type": "code",
   "execution_count": 35,
   "id": "18bc1724",
   "metadata": {},
   "outputs": [
    {
     "data": {
      "text/plain": [
       "dtype('float64')"
      ]
     },
     "execution_count": 35,
     "metadata": {},
     "output_type": "execute_result"
    }
   ],
   "source": [
    "df_users.age.dtypes"
   ]
  },
  {
   "cell_type": "code",
   "execution_count": 36,
   "id": "35cb7bc2",
   "metadata": {},
   "outputs": [
    {
     "data": {
      "text/plain": [
       "dtype('int64')"
      ]
     },
     "execution_count": 36,
     "metadata": {},
     "output_type": "execute_result"
    }
   ],
   "source": [
    "df_users.id.dtypes"
   ]
  },
  {
   "cell_type": "code",
   "execution_count": null,
   "id": "9707b3cf",
   "metadata": {},
   "outputs": [],
   "source": []
  }
 ],
 "metadata": {
  "kernelspec": {
   "display_name": "Python 3 (ipykernel)",
   "language": "python",
   "name": "python3"
  },
  "language_info": {
   "codemirror_mode": {
    "name": "ipython",
    "version": 3
   },
   "file_extension": ".py",
   "mimetype": "text/x-python",
   "name": "python",
   "nbconvert_exporter": "python",
   "pygments_lexer": "ipython3",
   "version": "3.9.12"
  }
 },
 "nbformat": 4,
 "nbformat_minor": 5
}
